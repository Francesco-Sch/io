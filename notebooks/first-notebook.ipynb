{
 "cells": [
  {
   "cell_type": "markdown",
   "id": "83c8fd50-16e6-4bca-88a0-88b9e26c45e6",
   "metadata": {
    "tags": []
   },
   "source": [
    "# Hello World"
   ]
  },
  {
   "cell_type": "code",
   "execution_count": 15,
   "id": "1bf1be25-7f50-4489-82e1-f9a55a97221a",
   "metadata": {},
   "outputs": [],
   "source": [
    "import os\n",
    "import io\n",
    "import ipywidgets as widgets\n",
    "from PIL import Image"
   ]
  },
  {
   "cell_type": "code",
   "execution_count": null,
   "id": "31d581d1-46e5-453c-9f2d-149493600a28",
   "metadata": {},
   "outputs": [],
   "source": [
    "import os\n",
    "import io\n",
    "import ipywidgets as widgets\n",
    "from PIL import Image"
   ]
  },
  {
   "cell_type": "code",
   "execution_count": 16,
   "id": "17a251ce-3db7-42a7-8945-2872a3555839",
   "metadata": {},
   "outputs": [
    {
     "data": {
      "application/vnd.jupyter.widget-view+json": {
       "model_id": "252925853f8d4bcb9fa9c11be2ee893c",
       "version_major": 2,
       "version_minor": 0
      },
      "text/plain": [
       "FileUpload(value={}, accept='.jpg, .jpeg, .png', description='Upload', multiple=True)"
      ]
     },
     "metadata": {},
     "output_type": "display_data"
    }
   ],
   "source": [
    "uploader = widgets.FileUpload(\n",
    "    accept='.jpg, .jpeg, .png',\n",
    "    multiple=True\n",
    ")\n",
    "\n",
    "uploader"
   ]
  },
  {
   "cell_type": "code",
   "execution_count": 21,
   "id": "27183015-cd8c-4883-baef-a829e378d9e5",
   "metadata": {
    "tags": []
   },
   "outputs": [
    {
     "data": {
      "application/vnd.jupyter.widget-view+json": {
       "model_id": "382217f26f8d453baa4ab3b353aacf2d",
       "version_major": 2,
       "version_minor": 0
      },
      "text/plain": [
       "Output()"
      ]
     },
     "metadata": {},
     "output_type": "display_data"
    }
   ],
   "source": [
    "# Creates a data directory if it is not existing yet\n",
    "if os.path.isdir('../data') is False:\n",
    "    os.mkdir('../data')\n",
    "    if os.path.isdir('../data/images') is False:\n",
    "        os.mkdir('../data/images')\n",
    "\n",
    "output2 = widgets.Output()\n",
    "\n",
    "\n",
    "def on_images_upload(change):\n",
    "    for x in uploader.value:\n",
    "        image_data = uploader.value[x]['content']\n",
    "\n",
    "        with open(f'../data/images/{x}', \"wb\") as fp:\n",
    "            image_data = uploader.value[x]['content']\n",
    "            fp.write(image_data)\n",
    "\n",
    "        with output2:\n",
    "            image = Image.open(io.BytesIO(image_data))\n",
    "            image.show()\n",
    "\n",
    "\n",
    "uploader.observe(on_images_upload, names='value')"
   ]
  },
  {
   "cell_type": "code",
   "execution_count": null,
   "id": "1f2f8b11-69a6-4692-981e-70fd69b98355",
   "metadata": {},
   "outputs": [],
   "source": []
  }
 ],
 "metadata": {
  "kernelspec": {
   "display_name": "Python 3 (ipykernel)",
   "language": "python",
   "name": "python3"
  },
  "language_info": {
   "codemirror_mode": {
    "name": "ipython",
    "version": 3
   },
   "file_extension": ".py",
   "mimetype": "text/x-python",
   "name": "python",
   "nbconvert_exporter": "python",
   "pygments_lexer": "ipython3",
   "version": "3.9.10"
  }
 },
 "nbformat": 4,
 "nbformat_minor": 5
}
