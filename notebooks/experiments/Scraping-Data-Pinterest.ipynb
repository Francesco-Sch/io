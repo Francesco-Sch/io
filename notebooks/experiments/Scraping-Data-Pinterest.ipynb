{
 "cells": [
  {
   "cell_type": "markdown",
   "id": "026203e8-b972-414f-ae04-a80099cf289e",
   "metadata": {},
   "source": [
    "# Scraping data with Pinterest"
   ]
  },
  {
   "cell_type": "code",
   "execution_count": 1,
   "id": "b37b0007-3680-4fe2-92dd-fae4ebc6312b",
   "metadata": {},
   "outputs": [
    {
     "name": "stdout",
     "output_type": "stream",
     "text": [
      "Cloning into 'crawler'...\n",
      "remote: Enumerating objects: 137, done.\u001b[K\n",
      "remote: Counting objects: 100% (137/137), done.\u001b[K\n",
      "remote: Compressing objects: 100% (99/99), done.\u001b[K\n",
      "remote: Total 137 (delta 84), reused 82 (delta 35), pack-reused 0\u001b[K\n",
      "Receiving objects: 100% (137/137), 2.93 MiB | 5.05 MiB/s, done.\n",
      "Resolving deltas: 100% (84/84), done.\n"
     ]
    }
   ],
   "source": [
    "!git clone https://github.com/Francesco-Sch/Pinterest-crawler-for-jupyter-lab crawler"
   ]
  },
  {
   "cell_type": "code",
   "execution_count": 2,
   "id": "9e40dbe8-125f-4cf0-81ed-6dbb2e0e410f",
   "metadata": {},
   "outputs": [
    {
     "name": "stdout",
     "output_type": "stream",
     "text": [
      "Requirement already satisfied: beautifulsoup4==4.9.3 in /opt/conda/lib/python3.10/site-packages (from -r ./crawler/requirements.txt (line 1)) (4.9.3)\n",
      "Requirement already satisfied: bs4==0.0.1 in /opt/conda/lib/python3.10/site-packages (from -r ./crawler/requirements.txt (line 2)) (0.0.1)\n",
      "Requirement already satisfied: certifi==2021.5.30 in /opt/conda/lib/python3.10/site-packages (from -r ./crawler/requirements.txt (line 3)) (2021.5.30)\n",
      "Requirement already satisfied: charset-normalizer==2.0.4 in /opt/conda/lib/python3.10/site-packages (from -r ./crawler/requirements.txt (line 4)) (2.0.4)\n",
      "Requirement already satisfied: idna==3.2 in /opt/conda/lib/python3.10/site-packages (from -r ./crawler/requirements.txt (line 5)) (3.2)\n",
      "Requirement already satisfied: PyYAML==5.4.1 in /opt/conda/lib/python3.10/site-packages (from -r ./crawler/requirements.txt (line 6)) (5.4.1)\n",
      "Requirement already satisfied: requests==2.26.0 in /opt/conda/lib/python3.10/site-packages (from -r ./crawler/requirements.txt (line 7)) (2.26.0)\n",
      "Requirement already satisfied: selenium==3.141.0 in /opt/conda/lib/python3.10/site-packages (from -r ./crawler/requirements.txt (line 8)) (3.141.0)\n",
      "Requirement already satisfied: soupsieve==2.2.1 in /opt/conda/lib/python3.10/site-packages (from -r ./crawler/requirements.txt (line 9)) (2.2.1)\n",
      "Requirement already satisfied: urllib3==1.26.6 in /opt/conda/lib/python3.10/site-packages (from -r ./crawler/requirements.txt (line 10)) (1.26.6)\n",
      "Requirement already satisfied: wget==3.2 in /opt/conda/lib/python3.10/site-packages (from -r ./crawler/requirements.txt (line 11)) (3.2)\n",
      "Requirement already satisfied: webdriver_manager==3.5.4 in /opt/conda/lib/python3.10/site-packages (from -r ./crawler/requirements.txt (line 12)) (3.5.4)\n",
      "Requirement already satisfied: Pillow==9.1.0 in /opt/conda/lib/python3.10/site-packages (from -r ./crawler/requirements.txt (line 13)) (9.1.0)\n"
     ]
    }
   ],
   "source": [
    "!pip install -r ./crawler/requirements.txt"
   ]
  },
  {
   "cell_type": "code",
   "execution_count": null,
   "id": "7526ee3c-f8db-49b1-9f30-c8104ea84583",
   "metadata": {},
   "outputs": [
    {
     "name": "stdout",
     "output_type": "stream",
     "text": [
      "Open selenium...\n",
      "\n",
      "\n",
      "====== WebDriver manager ======\n",
      "Current google-chrome version is 102.0.5005\n",
      "Get LATEST chromedriver version for 102.0.5005 google-chrome\n",
      "Driver [/home/jovyan/.wdm/drivers/chromedriver/linux64/102.0.5005.61/chromedriver] found in cache\n",
      "Loading cookies...\n",
      "Failed to login from cookies.. login manually\n",
      "Download Image\n"
     ]
    }
   ],
   "source": [
    "!python ./crawler/main.py -e 'francesco.scheffczyk@gmail.com' -p '^7qvGePCp&%c34h8M&%k%2$Sick#Wb' -d '/dataset' -l 'https://www.pinterest.de/search/pins/?q=brutalist%20interface%20design&rs=rs&eq=&etslf=4438&term_meta[]=brutalist%7Crecentsearch%7C1&term_meta[]=interface%7Crecentsearch%7C1&term_meta[]=design%7Crecentsearch%7C1' -g '1' -s '1024'"
   ]
  },
  {
   "cell_type": "code",
   "execution_count": null,
   "id": "355471dc-ff62-445b-8b0f-3316fbd61b33",
   "metadata": {},
   "outputs": [],
   "source": []
  }
 ],
 "metadata": {
  "kernelspec": {
   "display_name": "Python 3 (ipykernel)",
   "language": "python",
   "name": "python3"
  },
  "language_info": {
   "codemirror_mode": {
    "name": "ipython",
    "version": 3
   },
   "file_extension": ".py",
   "mimetype": "text/x-python",
   "name": "python",
   "nbconvert_exporter": "python",
   "pygments_lexer": "ipython3",
   "version": "3.10.4"
  },
  "toc-showmarkdowntxt": false,
  "toc-showtags": false
 },
 "nbformat": 4,
 "nbformat_minor": 5
}
