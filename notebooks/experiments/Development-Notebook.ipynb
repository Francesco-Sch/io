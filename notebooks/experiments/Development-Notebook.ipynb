{
 "cells": [
  {
   "cell_type": "markdown",
   "id": "e7e2f8c6-541d-4f10-903f-36febb788e1e",
   "metadata": {},
   "source": [
    "# Development Notebooks"
   ]
  },
  {
   "cell_type": "markdown",
   "id": "fb1c9670-95a4-4529-8611-4bebb10ffd2a",
   "metadata": {},
   "source": [
    "## 1. Install widgets"
   ]
  },
  {
   "cell_type": "code",
   "execution_count": 1,
   "id": "e7eae0aa-1055-409f-b00d-9830926f71b8",
   "metadata": {},
   "outputs": [
    {
     "name": "stdout",
     "output_type": "stream",
     "text": [
      "/home/jovyan/widgets\n",
      "Obtaining file:///home/jovyan/widgets\n",
      "  Installing build dependencies ... \u001b[?25ldone\n",
      "\u001b[?25h  Checking if build backend supports build_editable ... \u001b[?25ldone\n",
      "\u001b[?25h  Getting requirements to build wheel ... \u001b[?25ldone\n",
      "\u001b[?25h  Preparing metadata (pyproject.toml) ... \u001b[?25ldone\n",
      "\u001b[?25hRequirement already satisfied: ipywidgets>=7.0.0 in /opt/conda/lib/python3.10/site-packages (from svelte-widget==0.1.0.dev0) (7.7.0)\n",
      "Requirement already satisfied: ipython-genutils~=0.2.0 in /opt/conda/lib/python3.10/site-packages (from ipywidgets>=7.0.0->svelte-widget==0.1.0.dev0) (0.2.0)\n",
      "Requirement already satisfied: ipykernel>=4.5.1 in /opt/conda/lib/python3.10/site-packages (from ipywidgets>=7.0.0->svelte-widget==0.1.0.dev0) (6.13.0)\n",
      "Requirement already satisfied: nbformat>=4.2.0 in /opt/conda/lib/python3.10/site-packages (from ipywidgets>=7.0.0->svelte-widget==0.1.0.dev0) (5.4.0)\n",
      "Requirement already satisfied: widgetsnbextension~=3.6.0 in /opt/conda/lib/python3.10/site-packages (from ipywidgets>=7.0.0->svelte-widget==0.1.0.dev0) (3.6.0)\n",
      "Requirement already satisfied: traitlets>=4.3.1 in /opt/conda/lib/python3.10/site-packages (from ipywidgets>=7.0.0->svelte-widget==0.1.0.dev0) (5.2.2.post1)\n",
      "Requirement already satisfied: ipython>=4.0.0 in /opt/conda/lib/python3.10/site-packages (from ipywidgets>=7.0.0->svelte-widget==0.1.0.dev0) (8.4.0)\n",
      "Requirement already satisfied: jupyterlab-widgets>=1.0.0 in /opt/conda/lib/python3.10/site-packages (from ipywidgets>=7.0.0->svelte-widget==0.1.0.dev0) (1.1.0)\n",
      "Requirement already satisfied: tornado>=6.1 in /opt/conda/lib/python3.10/site-packages (from ipykernel>=4.5.1->ipywidgets>=7.0.0->svelte-widget==0.1.0.dev0) (6.1)\n",
      "Requirement already satisfied: jupyter-client>=6.1.12 in /opt/conda/lib/python3.10/site-packages (from ipykernel>=4.5.1->ipywidgets>=7.0.0->svelte-widget==0.1.0.dev0) (7.3.1)\n",
      "Requirement already satisfied: debugpy>=1.0 in /opt/conda/lib/python3.10/site-packages (from ipykernel>=4.5.1->ipywidgets>=7.0.0->svelte-widget==0.1.0.dev0) (1.6.0)\n",
      "Requirement already satisfied: psutil in /opt/conda/lib/python3.10/site-packages (from ipykernel>=4.5.1->ipywidgets>=7.0.0->svelte-widget==0.1.0.dev0) (5.9.1)\n",
      "Requirement already satisfied: nest-asyncio in /opt/conda/lib/python3.10/site-packages (from ipykernel>=4.5.1->ipywidgets>=7.0.0->svelte-widget==0.1.0.dev0) (1.5.5)\n",
      "Requirement already satisfied: matplotlib-inline>=0.1 in /opt/conda/lib/python3.10/site-packages (from ipykernel>=4.5.1->ipywidgets>=7.0.0->svelte-widget==0.1.0.dev0) (0.1.3)\n",
      "Requirement already satisfied: packaging in /opt/conda/lib/python3.10/site-packages (from ipykernel>=4.5.1->ipywidgets>=7.0.0->svelte-widget==0.1.0.dev0) (21.3)\n",
      "Requirement already satisfied: backcall in /opt/conda/lib/python3.10/site-packages (from ipython>=4.0.0->ipywidgets>=7.0.0->svelte-widget==0.1.0.dev0) (0.2.0)\n",
      "Requirement already satisfied: jedi>=0.16 in /opt/conda/lib/python3.10/site-packages (from ipython>=4.0.0->ipywidgets>=7.0.0->svelte-widget==0.1.0.dev0) (0.18.1)\n",
      "Requirement already satisfied: decorator in /opt/conda/lib/python3.10/site-packages (from ipython>=4.0.0->ipywidgets>=7.0.0->svelte-widget==0.1.0.dev0) (5.1.1)\n",
      "Requirement already satisfied: pickleshare in /opt/conda/lib/python3.10/site-packages (from ipython>=4.0.0->ipywidgets>=7.0.0->svelte-widget==0.1.0.dev0) (0.7.5)\n",
      "Requirement already satisfied: setuptools>=18.5 in /opt/conda/lib/python3.10/site-packages (from ipython>=4.0.0->ipywidgets>=7.0.0->svelte-widget==0.1.0.dev0) (62.3.2)\n",
      "Requirement already satisfied: pygments>=2.4.0 in /opt/conda/lib/python3.10/site-packages (from ipython>=4.0.0->ipywidgets>=7.0.0->svelte-widget==0.1.0.dev0) (2.12.0)\n",
      "Requirement already satisfied: stack-data in /opt/conda/lib/python3.10/site-packages (from ipython>=4.0.0->ipywidgets>=7.0.0->svelte-widget==0.1.0.dev0) (0.2.0)\n",
      "Requirement already satisfied: prompt-toolkit!=3.0.0,!=3.0.1,<3.1.0,>=2.0.0 in /opt/conda/lib/python3.10/site-packages (from ipython>=4.0.0->ipywidgets>=7.0.0->svelte-widget==0.1.0.dev0) (3.0.29)\n",
      "Requirement already satisfied: pexpect>4.3 in /opt/conda/lib/python3.10/site-packages (from ipython>=4.0.0->ipywidgets>=7.0.0->svelte-widget==0.1.0.dev0) (4.8.0)\n",
      "Requirement already satisfied: jupyter-core in /opt/conda/lib/python3.10/site-packages (from nbformat>=4.2.0->ipywidgets>=7.0.0->svelte-widget==0.1.0.dev0) (4.10.0)\n",
      "Requirement already satisfied: jsonschema>=2.6 in /opt/conda/lib/python3.10/site-packages (from nbformat>=4.2.0->ipywidgets>=7.0.0->svelte-widget==0.1.0.dev0) (3.2.0)\n",
      "Requirement already satisfied: fastjsonschema in /opt/conda/lib/python3.10/site-packages (from nbformat>=4.2.0->ipywidgets>=7.0.0->svelte-widget==0.1.0.dev0) (2.15.3)\n",
      "Requirement already satisfied: notebook>=4.4.1 in /opt/conda/lib/python3.10/site-packages (from widgetsnbextension~=3.6.0->ipywidgets>=7.0.0->svelte-widget==0.1.0.dev0) (6.4.11)\n",
      "Requirement already satisfied: parso<0.9.0,>=0.8.0 in /opt/conda/lib/python3.10/site-packages (from jedi>=0.16->ipython>=4.0.0->ipywidgets>=7.0.0->svelte-widget==0.1.0.dev0) (0.8.3)\n",
      "Requirement already satisfied: pyrsistent>=0.14.0 in /opt/conda/lib/python3.10/site-packages (from jsonschema>=2.6->nbformat>=4.2.0->ipywidgets>=7.0.0->svelte-widget==0.1.0.dev0) (0.18.1)\n",
      "Requirement already satisfied: attrs>=17.4.0 in /opt/conda/lib/python3.10/site-packages (from jsonschema>=2.6->nbformat>=4.2.0->ipywidgets>=7.0.0->svelte-widget==0.1.0.dev0) (21.4.0)\n",
      "Requirement already satisfied: six>=1.11.0 in /opt/conda/lib/python3.10/site-packages (from jsonschema>=2.6->nbformat>=4.2.0->ipywidgets>=7.0.0->svelte-widget==0.1.0.dev0) (1.16.0)\n",
      "Requirement already satisfied: pyzmq>=22.3 in /opt/conda/lib/python3.10/site-packages (from jupyter-client>=6.1.12->ipykernel>=4.5.1->ipywidgets>=7.0.0->svelte-widget==0.1.0.dev0) (23.1.0)\n",
      "Requirement already satisfied: entrypoints in /opt/conda/lib/python3.10/site-packages (from jupyter-client>=6.1.12->ipykernel>=4.5.1->ipywidgets>=7.0.0->svelte-widget==0.1.0.dev0) (0.4)\n",
      "Requirement already satisfied: python-dateutil>=2.8.2 in /opt/conda/lib/python3.10/site-packages (from jupyter-client>=6.1.12->ipykernel>=4.5.1->ipywidgets>=7.0.0->svelte-widget==0.1.0.dev0) (2.8.2)\n",
      "Requirement already satisfied: terminado>=0.8.3 in /opt/conda/lib/python3.10/site-packages (from notebook>=4.4.1->widgetsnbextension~=3.6.0->ipywidgets>=7.0.0->svelte-widget==0.1.0.dev0) (0.15.0)\n",
      "Requirement already satisfied: Send2Trash>=1.8.0 in /opt/conda/lib/python3.10/site-packages (from notebook>=4.4.1->widgetsnbextension~=3.6.0->ipywidgets>=7.0.0->svelte-widget==0.1.0.dev0) (1.8.0)\n",
      "Requirement already satisfied: argon2-cffi in /opt/conda/lib/python3.10/site-packages (from notebook>=4.4.1->widgetsnbextension~=3.6.0->ipywidgets>=7.0.0->svelte-widget==0.1.0.dev0) (21.3.0)\n",
      "Requirement already satisfied: prometheus-client in /opt/conda/lib/python3.10/site-packages (from notebook>=4.4.1->widgetsnbextension~=3.6.0->ipywidgets>=7.0.0->svelte-widget==0.1.0.dev0) (0.14.1)\n",
      "Requirement already satisfied: nbconvert>=5 in /opt/conda/lib/python3.10/site-packages (from notebook>=4.4.1->widgetsnbextension~=3.6.0->ipywidgets>=7.0.0->svelte-widget==0.1.0.dev0) (6.5.0)\n",
      "Requirement already satisfied: jinja2 in /opt/conda/lib/python3.10/site-packages (from notebook>=4.4.1->widgetsnbextension~=3.6.0->ipywidgets>=7.0.0->svelte-widget==0.1.0.dev0) (3.1.2)\n",
      "Requirement already satisfied: ptyprocess>=0.5 in /opt/conda/lib/python3.10/site-packages (from pexpect>4.3->ipython>=4.0.0->ipywidgets>=7.0.0->svelte-widget==0.1.0.dev0) (0.7.0)\n",
      "Requirement already satisfied: wcwidth in /opt/conda/lib/python3.10/site-packages (from prompt-toolkit!=3.0.0,!=3.0.1,<3.1.0,>=2.0.0->ipython>=4.0.0->ipywidgets>=7.0.0->svelte-widget==0.1.0.dev0) (0.2.5)\n",
      "Requirement already satisfied: pyparsing!=3.0.5,>=2.0.2 in /opt/conda/lib/python3.10/site-packages (from packaging->ipykernel>=4.5.1->ipywidgets>=7.0.0->svelte-widget==0.1.0.dev0) (3.0.9)\n",
      "Requirement already satisfied: asttokens in /opt/conda/lib/python3.10/site-packages (from stack-data->ipython>=4.0.0->ipywidgets>=7.0.0->svelte-widget==0.1.0.dev0) (2.0.5)\n",
      "Requirement already satisfied: executing in /opt/conda/lib/python3.10/site-packages (from stack-data->ipython>=4.0.0->ipywidgets>=7.0.0->svelte-widget==0.1.0.dev0) (0.8.3)\n",
      "Requirement already satisfied: pure-eval in /opt/conda/lib/python3.10/site-packages (from stack-data->ipython>=4.0.0->ipywidgets>=7.0.0->svelte-widget==0.1.0.dev0) (0.2.2)\n",
      "Requirement already satisfied: beautifulsoup4 in /opt/conda/lib/python3.10/site-packages (from nbconvert>=5->notebook>=4.4.1->widgetsnbextension~=3.6.0->ipywidgets>=7.0.0->svelte-widget==0.1.0.dev0) (4.9.3)\n",
      "Requirement already satisfied: defusedxml in /opt/conda/lib/python3.10/site-packages (from nbconvert>=5->notebook>=4.4.1->widgetsnbextension~=3.6.0->ipywidgets>=7.0.0->svelte-widget==0.1.0.dev0) (0.7.1)\n",
      "Requirement already satisfied: mistune<2,>=0.8.1 in /opt/conda/lib/python3.10/site-packages (from nbconvert>=5->notebook>=4.4.1->widgetsnbextension~=3.6.0->ipywidgets>=7.0.0->svelte-widget==0.1.0.dev0) (0.8.4)\n",
      "Requirement already satisfied: bleach in /opt/conda/lib/python3.10/site-packages (from nbconvert>=5->notebook>=4.4.1->widgetsnbextension~=3.6.0->ipywidgets>=7.0.0->svelte-widget==0.1.0.dev0) (5.0.0)\n",
      "Requirement already satisfied: MarkupSafe>=2.0 in /opt/conda/lib/python3.10/site-packages (from nbconvert>=5->notebook>=4.4.1->widgetsnbextension~=3.6.0->ipywidgets>=7.0.0->svelte-widget==0.1.0.dev0) (2.1.1)\n",
      "Requirement already satisfied: nbclient>=0.5.0 in /opt/conda/lib/python3.10/site-packages (from nbconvert>=5->notebook>=4.4.1->widgetsnbextension~=3.6.0->ipywidgets>=7.0.0->svelte-widget==0.1.0.dev0) (0.5.13)\n",
      "Requirement already satisfied: pandocfilters>=1.4.1 in /opt/conda/lib/python3.10/site-packages (from nbconvert>=5->notebook>=4.4.1->widgetsnbextension~=3.6.0->ipywidgets>=7.0.0->svelte-widget==0.1.0.dev0) (1.5.0)\n",
      "Requirement already satisfied: tinycss2 in /opt/conda/lib/python3.10/site-packages (from nbconvert>=5->notebook>=4.4.1->widgetsnbextension~=3.6.0->ipywidgets>=7.0.0->svelte-widget==0.1.0.dev0) (1.1.1)\n",
      "Requirement already satisfied: jupyterlab-pygments in /opt/conda/lib/python3.10/site-packages (from nbconvert>=5->notebook>=4.4.1->widgetsnbextension~=3.6.0->ipywidgets>=7.0.0->svelte-widget==0.1.0.dev0) (0.2.2)\n",
      "Requirement already satisfied: argon2-cffi-bindings in /opt/conda/lib/python3.10/site-packages (from argon2-cffi->notebook>=4.4.1->widgetsnbextension~=3.6.0->ipywidgets>=7.0.0->svelte-widget==0.1.0.dev0) (21.2.0)\n",
      "Requirement already satisfied: cffi>=1.0.1 in /opt/conda/lib/python3.10/site-packages (from argon2-cffi-bindings->argon2-cffi->notebook>=4.4.1->widgetsnbextension~=3.6.0->ipywidgets>=7.0.0->svelte-widget==0.1.0.dev0) (1.15.0)\n",
      "Requirement already satisfied: soupsieve>1.2 in /opt/conda/lib/python3.10/site-packages (from beautifulsoup4->nbconvert>=5->notebook>=4.4.1->widgetsnbextension~=3.6.0->ipywidgets>=7.0.0->svelte-widget==0.1.0.dev0) (2.2.1)\n",
      "Requirement already satisfied: webencodings in /opt/conda/lib/python3.10/site-packages (from bleach->nbconvert>=5->notebook>=4.4.1->widgetsnbextension~=3.6.0->ipywidgets>=7.0.0->svelte-widget==0.1.0.dev0) (0.5.1)\n",
      "Requirement already satisfied: pycparser in /opt/conda/lib/python3.10/site-packages (from cffi>=1.0.1->argon2-cffi-bindings->argon2-cffi->notebook>=4.4.1->widgetsnbextension~=3.6.0->ipywidgets>=7.0.0->svelte-widget==0.1.0.dev0) (2.21)\n",
      "Installing collected packages: svelte-widget\n",
      "  Attempting uninstall: svelte-widget\n",
      "    Found existing installation: svelte-widget 0.1.0.dev0\n",
      "    Uninstalling svelte-widget-0.1.0.dev0:\n",
      "      Successfully uninstalled svelte-widget-0.1.0.dev0\n",
      "  Running setup.py develop for svelte-widget\n",
      "Successfully installed svelte-widget-0.1.0.dev0\n",
      "/home/jovyan/widgets/setup.py:59: DeprecatedWarning: create_cmdclass is deprecated as of 0.8 and will be removed in 1.0. \"\n",
      "Use `wrap_installers` to handle prebuild steps in cmdclass.\n",
      "Use `get_data_files` to handle data files.\n",
      "Use `include_package_data=True` and `MANIFEST.in` for package data.\n",
      "\n",
      "  cmdclass = create_cmdclass('jsdeps', package_data_spec=package_data_spec,\n",
      "/home/jovyan/widgets/setup.py:62: DeprecatedWarning: install_npm is deprecated as of 0.8 and will be removed in 1.0. Use `npm_builder` and `wrap_installers`\n",
      "  install_npm(HERE, build_cmd='build:prod'),\n",
      "/opt/conda/lib/python3.10/site-packages/setuptools/config/setupcfg.py:459: SetuptoolsDeprecationWarning: The license_file parameter is deprecated, use license_files instead.\n",
      "  warnings.warn(msg, warning_class)\n",
      "/opt/conda/lib/python3.10/site-packages/setuptools/dist.py:531: UserWarning: Normalizing '0.1.0.dev' to '0.1.0.dev0'\n",
      "  warnings.warn(tmpl.format(**locals()))\n",
      "Installing /home/jovyan/widgets/svelte_widget/labextension -> svelte-widget\n",
      "Removing: /opt/conda/share/jupyter/labextensions/svelte-widget\n",
      "Symlinking: /opt/conda/share/jupyter/labextensions/svelte-widget -> /home/jovyan/widgets/svelte_widget/labextension\n"
     ]
    }
   ],
   "source": [
    "%cd ../../widgets\n",
    "!pip install -e .\n",
    "!jupyter labextension develop --overwrite ."
   ]
  },
  {
   "cell_type": "markdown",
   "id": "f6d77b90-a85e-454b-a0d8-f2b41619f5d2",
   "metadata": {},
   "source": [
    "## 2. Install Jupyter Lab extension"
   ]
  },
  {
   "cell_type": "code",
   "execution_count": null,
   "id": "be43a21a-e5c1-4c61-a780-bb2283e78fc4",
   "metadata": {},
   "outputs": [
    {
     "name": "stdout",
     "output_type": "stream",
     "text": [
      "/home/jovyan/ext/app\n",
      "Obtaining file:///home/jovyan/ext/app\n",
      "  Installing build dependencies ... \u001b[?25ldone\n",
      "\u001b[?25h  Checking if build backend supports build_editable ... \u001b[?25ldone\n",
      "\u001b[?25h  Getting requirements to build wheel ... \u001b[?25ldone\n",
      "\u001b[?25h  Preparing metadata (pyproject.toml) ... \u001b[?25ldone\n",
      "\u001b[?25hInstalling collected packages: IO-App\n",
      "  Running setup.py develop for IO-App\n",
      "Successfully installed IO-App-0.1.0\n"
     ]
    }
   ],
   "source": [
    "%cd ../ext/app\n",
    "!pip install -e .\n",
    "!jupyter labextension develop . --overwrite"
   ]
  },
  {
   "cell_type": "markdown",
   "id": "71f387df-c1d8-40b9-985a-6b7cbb765d9f",
   "metadata": {},
   "source": [
    "## 3. Start build commands"
   ]
  },
  {
   "cell_type": "code",
   "execution_count": 3,
   "id": "d3301cbe-6776-418f-9d6e-91208404846a",
   "metadata": {},
   "outputs": [
    {
     "name": "stdout",
     "output_type": "stream",
     "text": [
      "\u001b[2K\u001b[1G\u001b[1myarn run v1.21.1\u001b[22m\n",
      "\u001b[2K\u001b[1G\u001b[2m$ jlpm build:lib && jlpm build:labextension:dev\u001b[22m\n",
      "\u001b[2K\u001b[1G\u001b[2m$ tsc\u001b[22m\n",
      "\u001b[2K\u001b[1G\u001b[2m$ jupyter labextension build --development True .\u001b[22m\n",
      "Building extension in .\n",
      "\n",
      "Compilation starting…\n",
      "\n",
      "\n",
      "Compilation starting…\n",
      "\n",
      "\n",
      "Compilation finished\n",
      "\n",
      "assets by path \u001b[1m\u001b[32m*.js\u001b[39m\u001b[22m 250 KiB\n",
      "  asset \u001b[1m\u001b[32mlib_index_js.fd20120a22b1eb9dfa7e.js\u001b[39m\u001b[22m 112 KiB \u001b[1m\u001b[32m[emitted]\u001b[39m\u001b[22m \u001b[1m\u001b[32m[immutable]\u001b[39m\u001b[22m 1 related asset\n",
      "  asset \u001b[1m\u001b[32mstyle_index_css.07a48b14e00cf5836241.js\u001b[39m\u001b[22m 97.8 KiB \u001b[1m\u001b[32m[emitted]\u001b[39m\u001b[22m \u001b[1m\u001b[32m[immutable]\u001b[39m\u001b[22m 1 related asset\n",
      "  asset \u001b[1m\u001b[32mremoteEntry.4321e44b688d806bae55.js\u001b[39m\u001b[22m 27.1 KiB \u001b[1m\u001b[32m[emitted]\u001b[39m\u001b[22m \u001b[1m\u001b[32m[immutable]\u001b[39m\u001b[22m (name: IO-App) 1 related asset\n",
      "  asset \u001b[1m\u001b[32mvendors-node_modules_css-loader_dist_runtime_api_js-node_modules_css-loader_dist_runtime_cssW-7d5e6f.0b9d8abd1ec38907b901.js\u001b[39m\u001b[22m 12.8 KiB \u001b[1m\u001b[32m[emitted]\u001b[39m\u001b[22m \u001b[1m\u001b[32m[immutable]\u001b[39m\u001b[22m (id hint: vendors) 1 related asset\n",
      "assets by path \u001b[1m\u001b[32m*.ttf\u001b[39m\u001b[22m 55.1 KiB\n",
      "  asset \u001b[1m\u001b[32m1193e09e564eca32149f92e036cd25b2c2875238ddf287eec067cdc3be62b149.ttf\u001b[39m\u001b[22m 13.9 KiB \u001b[1m\u001b[32m[emitted]\u001b[39m\u001b[22m\n",
      "  asset \u001b[1m\u001b[32m5df6ab38f364a3488584f2a43e1f79aef2ca164f8a181bf0684d98ddaa1736e8.ttf\u001b[39m\u001b[22m 13.8 KiB \u001b[1m\u001b[32m[emitted]\u001b[39m\u001b[22m\n",
      "  asset \u001b[1m\u001b[32m88ecea7cd5ad94f1e950e1a214841e549a75135bee6e80b5e9cd2ef21ffee475.ttf\u001b[39m\u001b[22m 13.7 KiB \u001b[1m\u001b[32m[emitted]\u001b[39m\u001b[22m\n",
      "  asset \u001b[1m\u001b[32m99ef1faab6c721aa1b50a725e13320cb2f630ebc1da0894c48c02dde2d2e3c13.ttf\u001b[39m\u001b[22m 13.6 KiB \u001b[1m\u001b[32m[emitted]\u001b[39m\u001b[22m\n",
      "runtime modules 18 KiB 13 modules\n",
      "modules by path \u001b[1m./style/icons/*.svg\u001b[39m\u001b[22m 38.8 KiB 62 modules\n",
      "modules by path \u001b[1m./style/fonts/\u001b[39m\u001b[22m 40.2 KiB 8 modules\n",
      "modules by path \u001b[1m./style/*.css\u001b[39m\u001b[22m 42.8 KiB 5 modules\n",
      "modules by path \u001b[1m./node_modules/\u001b[39m\u001b[22m 11.3 KiB\n",
      "  \u001b[1m./node_modules/style-loader/dist/runtime/injectStylesIntoStyleTag.js\u001b[39m\u001b[22m 6.67 KiB \u001b[1m\u001b[33m[built]\u001b[39m\u001b[22m \u001b[1m\u001b[33m[code generated]\u001b[39m\u001b[22m\n",
      "  + 3 modules\n",
      "modules by path \u001b[1m./lib/\u001b[39m\u001b[22m 15.9 KiB\n",
      "  \u001b[1m./lib/index.js\u001b[39m\u001b[22m 1000 bytes \u001b[1m\u001b[33m[built]\u001b[39m\u001b[22m \u001b[1m\u001b[33m[code generated]\u001b[39m\u001b[22m\n",
      "  \u001b[1m./lib/icons/icons.js\u001b[39m\u001b[22m 14.9 KiB \u001b[1m\u001b[33m[built]\u001b[39m\u001b[22m \u001b[1m\u001b[33m[code generated]\u001b[39m\u001b[22m\n",
      "consume-shared-module modules 84 bytes\n",
      "  \u001b[1mconsume shared module (default) @jupyterlab/apputils@^3.4.2 (singleton)\u001b[39m\u001b[22m 42 bytes \u001b[1m\u001b[33m[built]\u001b[39m\u001b[22m \u001b[1m\u001b[33m[code generated]\u001b[39m\u001b[22m\n",
      "  \u001b[1mconsume shared module (default) @jupyterlab/ui-components@^3.4.2 (singleton)\u001b[39m\u001b[22m 42 bytes \u001b[1m\u001b[33m[built]\u001b[39m\u001b[22m \u001b[1m\u001b[33m[code generated]\u001b[39m\u001b[22m\n",
      "\u001b[1mcontainer entry\u001b[39m\u001b[22m 42 bytes \u001b[1m\u001b[33m[built]\u001b[39m\u001b[22m \u001b[1m\u001b[33m[code generated]\u001b[39m\u001b[22m\n",
      "\u001b[1mprovide shared module (default) IO-App@0.1.0 = ./lib/index.js\u001b[39m\u001b[22m 42 bytes \u001b[1m\u001b[33m[built]\u001b[39m\u001b[22m \u001b[1m\u001b[33m[code generated]\u001b[39m\u001b[22m\n",
      "webpack 5.72.1 compiled \u001b[1m\u001b[32msuccessfully\u001b[39m\u001b[22m in 1534 ms\n",
      "\n",
      "assets by path \u001b[1m\u001b[32m*.ttf\u001b[39m\u001b[22m 55.1 KiB\n",
      "  asset \u001b[1m\u001b[32m1193e09e564eca32149f92e036cd25b2c2875238ddf287eec067cdc3be62b149.ttf\u001b[39m\u001b[22m 13.9 KiB \u001b[1m\u001b[32m[emitted]\u001b[39m\u001b[22m (auxiliary name: index)\n",
      "  asset \u001b[1m\u001b[32m5df6ab38f364a3488584f2a43e1f79aef2ca164f8a181bf0684d98ddaa1736e8.ttf\u001b[39m\u001b[22m 13.8 KiB \u001b[1m\u001b[32m[emitted]\u001b[39m\u001b[22m (auxiliary name: index)\n",
      "  asset \u001b[1m\u001b[32m88ecea7cd5ad94f1e950e1a214841e549a75135bee6e80b5e9cd2ef21ffee475.ttf\u001b[39m\u001b[22m 13.7 KiB \u001b[1m\u001b[32m[emitted]\u001b[39m\u001b[22m (auxiliary name: index)\n",
      "  asset \u001b[1m\u001b[32m99ef1faab6c721aa1b50a725e13320cb2f630ebc1da0894c48c02dde2d2e3c13.ttf\u001b[39m\u001b[22m 13.6 KiB \u001b[1m\u001b[32m[emitted]\u001b[39m\u001b[22m (auxiliary name: index)\n",
      "assets by chunk 56.3 KiB (name: index)\n",
      "  asset \u001b[1m\u001b[32mindex.css\u001b[39m\u001b[22m 56.3 KiB \u001b[1m\u001b[32m[emitted]\u001b[39m\u001b[22m (name: index)\n",
      "  asset \u001b[1m\u001b[32mindex.js\u001b[39m\u001b[22m 0 bytes \u001b[1m\u001b[32m[emitted]\u001b[39m\u001b[22m \u001b[1m\u001b[32m[minimized]\u001b[39m\u001b[22m (name: index)\n",
      "Entrypoint \u001b[1mindex\u001b[39m\u001b[22m 56.3 KiB (55.1 KiB) = \u001b[1m\u001b[32mindex.css\u001b[39m\u001b[22m 56.3 KiB \u001b[1m\u001b[32mindex.js\u001b[39m\u001b[22m 0 bytes 4 auxiliary assets\n",
      "\u001b[1m./style/index.css\u001b[39m\u001b[22m 50 bytes \u001b[1m\u001b[33m[built]\u001b[39m\u001b[22m \u001b[1m\u001b[33m[code generated]\u001b[39m\u001b[22m\n",
      "css ./node_modules/css-loader/dist/cjs.js!\u001b[1m./style/fonts.css\u001b[39m\u001b[22m 41.2 KiB \u001b[1m\u001b[33m[code generated]\u001b[39m\u001b[22m\n",
      "css ./node_modules/css-loader/dist/cjs.js!\u001b[1m./style/variables.css\u001b[39m\u001b[22m 13.4 KiB \u001b[1m\u001b[33m[code generated]\u001b[39m\u001b[22m\n",
      "css ./node_modules/css-loader/dist/cjs.js!\u001b[1m./style/theme.css\u001b[39m\u001b[22m 1.74 KiB \u001b[1m\u001b[33m[code generated]\u001b[39m\u001b[22m\n",
      "css ./node_modules/css-loader/dist/cjs.js!\u001b[1m./style/index.css\u001b[39m\u001b[22m 0 bytes \u001b[1m\u001b[33m[code generated]\u001b[39m\u001b[22m\n",
      "webpack 5.72.1 compiled \u001b[1m\u001b[32msuccessfully\u001b[39m\u001b[22m in 1729 ms\n",
      "\u001b[2K\u001b[1GDone in 18.59s.\n"
     ]
    }
   ],
   "source": [
    "!jlpm build"
   ]
  },
  {
   "cell_type": "code",
   "execution_count": 5,
   "id": "008d5552-6a0a-458e-bfe9-b2502778c89f",
   "metadata": {},
   "outputs": [
    {
     "name": "stdout",
     "output_type": "stream",
     "text": [
      "/bin/bash: line 0: cd: ../../widgets: No such file or directory\n"
     ]
    }
   ],
   "source": [
    "!cd ../../widgets && yarn run build"
   ]
  },
  {
   "cell_type": "code",
   "execution_count": null,
   "id": "6f0e6f07-ccd3-4fab-9230-6cdb640f99e2",
   "metadata": {},
   "outputs": [
    {
     "name": "stdout",
     "output_type": "stream",
     "text": [
      "\u001b[2K\u001b[1G\u001b[1myarn run v1.22.18\u001b[22m\n",
      "\u001b[2K\u001b[1G\u001b[2m$ webpack --mode=development && jupyter labextension build --development=True .\u001b[22m\n"
     ]
    }
   ],
   "source": [
    "!yarn run build"
   ]
  },
  {
   "cell_type": "code",
   "execution_count": null,
   "id": "30e477b4-98d4-4ff5-ac06-cbcc9f88e683",
   "metadata": {},
   "outputs": [],
   "source": []
  }
 ],
 "metadata": {
  "kernelspec": {
   "display_name": "Python 3 (ipykernel)",
   "language": "python",
   "name": "python3"
  },
  "language_info": {
   "codemirror_mode": {
    "name": "ipython",
    "version": 3
   },
   "file_extension": ".py",
   "mimetype": "text/x-python",
   "name": "python",
   "nbconvert_exporter": "python",
   "pygments_lexer": "ipython3",
   "version": "3.10.4"
  }
 },
 "nbformat": 4,
 "nbformat_minor": 5
}
