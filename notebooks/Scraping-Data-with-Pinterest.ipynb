{
 "cells": [
  {
   "cell_type": "markdown",
   "id": "443d4424-ef6b-4a3a-b532-d886421f1e97",
   "metadata": {},
   "source": [
    "# Scraping Data with Pinterest\n",
    "\n",
    "Lorem ipsum dolor sit amet, consectetur adipiscing elit. Pellentesque tortor adipiscing duis tortor at cras purus. Quis ultrices at dolor lorem proin maecenas cras senectus. Tortor convallis nec faucibus neque faucibus at ac ut lectus. Morbi cras pharetra lectus elit tempor ornare donec scelerisque purus.\n",
    "\n",
    "Lorem ipsum dolor sit amet, consectetur adipiscing elit. Pellentesque tortor adipiscing duis tortor at cras purus. Quis ultrices at dolor lorem proin maecenas cras senectus. Tortor convallis nec faucibus neque faucibus at ac ut lectus. Morbi cras pharetra lectus elit tempor ornare donec scelerisque purus."
   ]
  },
  {
   "cell_type": "markdown",
   "id": "95d4e56e-ab96-4ce1-9c98-d3710867617b",
   "metadata": {},
   "source": [
    "## 1. Set requirements"
   ]
  },
  {
   "cell_type": "code",
   "execution_count": 11,
   "id": "9a4201a7-1695-49f6-a55e-5909c7c49274",
   "metadata": {
    "tags": []
   },
   "outputs": [
    {
     "name": "stdout",
     "output_type": "stream",
     "text": [
      "fatal: destination path 'crawler' already exists and is not an empty directory.\n",
      "Requirement already satisfied: beautifulsoup4==4.9.3 in /opt/conda/lib/python3.9/site-packages (from -r ./crawler/requirements.txt (line 1)) (4.9.3)\n",
      "Requirement already satisfied: bs4==0.0.1 in /opt/conda/lib/python3.9/site-packages (from -r ./crawler/requirements.txt (line 2)) (0.0.1)\n",
      "Requirement already satisfied: certifi==2021.5.30 in /opt/conda/lib/python3.9/site-packages (from -r ./crawler/requirements.txt (line 3)) (2021.5.30)\n",
      "Requirement already satisfied: charset-normalizer==2.0.4 in /opt/conda/lib/python3.9/site-packages (from -r ./crawler/requirements.txt (line 4)) (2.0.4)\n",
      "Requirement already satisfied: idna==3.2 in /opt/conda/lib/python3.9/site-packages (from -r ./crawler/requirements.txt (line 5)) (3.2)\n",
      "Requirement already satisfied: PyYAML==5.4.1 in /opt/conda/lib/python3.9/site-packages (from -r ./crawler/requirements.txt (line 6)) (5.4.1)\n",
      "Requirement already satisfied: requests==2.26.0 in /opt/conda/lib/python3.9/site-packages (from -r ./crawler/requirements.txt (line 7)) (2.26.0)\n",
      "Requirement already satisfied: selenium==3.141.0 in /opt/conda/lib/python3.9/site-packages (from -r ./crawler/requirements.txt (line 8)) (3.141.0)\n",
      "Requirement already satisfied: soupsieve==2.2.1 in /opt/conda/lib/python3.9/site-packages (from -r ./crawler/requirements.txt (line 9)) (2.2.1)\n",
      "Requirement already satisfied: urllib3==1.26.6 in /opt/conda/lib/python3.9/site-packages (from -r ./crawler/requirements.txt (line 10)) (1.26.6)\n",
      "Requirement already satisfied: wget==3.2 in /opt/conda/lib/python3.9/site-packages (from -r ./crawler/requirements.txt (line 11)) (3.2)\n",
      "Requirement already satisfied: webdriver_manager==3.5.4 in /opt/conda/lib/python3.9/site-packages (from -r ./crawler/requirements.txt (line 12)) (3.5.4)\n",
      "Requirement already satisfied: Pillow==9.1.0 in /opt/conda/lib/python3.9/site-packages (from -r ./crawler/requirements.txt (line 13)) (9.1.0)\n"
     ]
    }
   ],
   "source": [
    "PINTEREST_USERNAME = ''\n",
    "PINTEREST_PASSWORD = ''\n",
    "\n",
    "PINTEREST_LINKS = []\n",
    "OUTPUT_FOLDER = ''\n",
    "AMOUNT_OF_IMAGES = 0\n",
    "\n",
    "!git clone https://github.com/Francesco-Sch/Pinterest-crawler-for-jupyter-lab crawler\n",
    "!pip install -r ./crawler/requirements.txt"
   ]
  },
  {
   "cell_type": "code",
   "execution_count": 6,
   "id": "17c99c09-341a-4215-a5f4-08c8a65841fb",
   "metadata": {
    "tags": []
   },
   "outputs": [
    {
     "name": "stdout",
     "output_type": "stream",
     "text": [
      "Cooler Username\n"
     ]
    }
   ],
   "source": []
  },
  {
   "cell_type": "code",
   "execution_count": null,
   "id": "4e790ee6-ffa9-46cb-9e19-b54bbf2052d2",
   "metadata": {},
   "outputs": [],
   "source": []
  }
 ],
 "metadata": {
  "kernelspec": {
   "display_name": "Python 3 (ipykernel)",
   "language": "python",
   "name": "python3"
  },
  "language_info": {
   "codemirror_mode": {
    "name": "ipython",
    "version": 3
   },
   "file_extension": ".py",
   "mimetype": "text/x-python",
   "name": "python",
   "nbconvert_exporter": "python",
   "pygments_lexer": "ipython3",
   "version": "3.9.12"
  }
 },
 "nbformat": 4,
 "nbformat_minor": 5
}
