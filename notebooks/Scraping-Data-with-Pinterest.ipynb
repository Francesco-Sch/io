{
 "cells": [
  {
   "cell_type": "markdown",
   "id": "443d4424-ef6b-4a3a-b532-d886421f1e97",
   "metadata": {},
   "source": [
    "# Scraping Data with Pinterest\n",
    "\n",
    "Lorem ipsum dolor sit amet, consectetur adipiscing elit. Pellentesque tortor adipiscing duis tortor at cras purus. Quis ultrices at dolor lorem proin maecenas cras senectus. Tortor convallis nec faucibus neque faucibus at ac ut lectus. Morbi cras pharetra lectus elit tempor ornare donec scelerisque purus.\n",
    "\n",
    "Lorem ipsum dolor sit amet, consectetur adipiscing elit. Pellentesque tortor adipiscing duis tortor at cras purus. Quis ultrices at dolor lorem proin maecenas cras senectus. Tortor convallis nec faucibus neque faucibus at ac ut lectus. Morbi cras pharetra lectus elit tempor ornare donec scelerisque purus."
   ]
  },
  {
   "cell_type": "markdown",
   "id": "95d4e56e-ab96-4ce1-9c98-d3710867617b",
   "metadata": {},
   "source": [
    "## 1. Set requirements"
   ]
  },
  {
   "cell_type": "code",
   "execution_count": null,
   "id": "9a4201a7-1695-49f6-a55e-5909c7c49274",
   "metadata": {
    "jupyter": {
     "source_hidden": true
    },
    "tags": []
   },
   "outputs": [],
   "source": [
    "# -----------\n",
    "# IMPORTS\n",
    "# -----------\n",
    "import os\n",
    "from IPython.display import display\n",
    "import ipywidgets as widgets\n",
    "import svelte_widget\n",
    "\n",
    "# -----------\n",
    "# UTILITIES\n",
    "# -----------\n",
    "if os.path.isdir('/home/jovyan/notebooks/crawler/') is False:\n",
    "    !git clone https://github.com/Francesco-Sch/Pinterest-crawler-for-jupyter-lab crawler\n",
    "\n",
    "if os.path.isdir('/home/jovyan/notebooks/crawler/') is True:\n",
    "    !pip install -r ./crawler/requirements.txt"
   ]
  },
  {
   "cell_type": "markdown",
   "id": "5e467556-49d1-48c6-9e1f-6dbcdf2d3f96",
   "metadata": {
    "tags": []
   },
   "source": [
    "## 2. Enter your Pinterest login credentials\n",
    "\n",
    "CAUTION: Works only if 2FA is deactivated."
   ]
  },
  {
   "cell_type": "code",
   "execution_count": 2,
   "id": "4e790ee6-ffa9-46cb-9e19-b54bbf2052d2",
   "metadata": {
    "jupyter": {
     "source_hidden": true
    },
    "tags": []
   },
   "outputs": [
    {
     "data": {
      "application/vnd.jupyter.widget-view+json": {
       "model_id": "639c9528b10145d1a3cb3f71315d6779",
       "version_major": 2,
       "version_minor": 0
      },
      "text/plain": [
       "PinterestLogin()"
      ]
     },
     "metadata": {},
     "output_type": "display_data"
    }
   ],
   "source": [
    "PinterestLogin = svelte_widget.PinterestLogin()\n",
    "PinterestLogin"
   ]
  },
  {
   "cell_type": "markdown",
   "id": "fc43ebce-e710-400f-bcf2-147f88ec15dd",
   "metadata": {},
   "source": [
    "## 3. Add Pinterest Links\n",
    "\n",
    "Lorem ipsum dolor sit amet, consectetur adipiscing elit. Pellentesque tortor adipiscing duis tortor at cras purus. Quis ultrices at dolor lorem proin maecenas cras senectus. Tortor convallis nec faucibus neque faucibus at ac ut lectus. Morbi cras pharetra lectus elit tempor ornare donec scelerisque purus.\n",
    "\n",
    "Lorem ipsum dolor sit amet, consectetur adipiscing elit. Pellentesque tortor adipiscing duis tortor at cras purus. Quis ultrices at dolor lorem proin maecenas cras senectus. Tortor convallis nec faucibus neque faucibus at ac ut lectus. Morbi cras pharetra lectus elit tempor ornare donec scelerisque purus."
   ]
  },
  {
   "cell_type": "code",
   "execution_count": 4,
   "id": "080e1931-294d-4a64-9b10-6a9f70947f51",
   "metadata": {
    "jupyter": {
     "source_hidden": true
    },
    "tags": []
   },
   "outputs": [
    {
     "data": {
      "application/vnd.jupyter.widget-view+json": {
       "model_id": "0e32384d8e244b36ad4c55cd426fc140",
       "version_major": 2,
       "version_minor": 0
      },
      "text/plain": [
       "PinterestLinks()"
      ]
     },
     "metadata": {},
     "output_type": "display_data"
    }
   ],
   "source": [
    "PinterestLinks = svelte_widget.PinterestLinks()\n",
    "PinterestLinks"
   ]
  },
  {
   "cell_type": "markdown",
   "id": "d9768f5e-a6cb-418d-950d-e670180e6b6d",
   "metadata": {},
   "source": [
    "## 4. Validate your settings\n",
    "\n",
    "Click the validation button to check if all your settings and inputs are correct.\n",
    "If everything is correct, you can continue with the scraping process under “Start scraping”. If something is wrong you’ll get an error message which tells you what is missing and how to fix it."
   ]
  },
  {
   "cell_type": "code",
   "execution_count": 5,
   "id": "e9fb7c39-e3c2-4da2-bb12-2654d3ca1735",
   "metadata": {
    "jupyter": {
     "source_hidden": true
    },
    "tags": []
   },
   "outputs": [
    {
     "name": "stdout",
     "output_type": "stream",
     "text": [
      "francesco.scheffczyk@gmail.com\n",
      "^7qvGePCp&%c34h8M&%k%2$Sick#Wb\n",
      "['https://www.pinterest.de/search/pins/?q=brutalist%20interface%20design&rs=rs&eq=&etslf=13987&term_meta[]=brutalist%7Crecentsearch%7C0&term_meta[]=interface%7Crecentsearch%7C0&term_meta[]=design%7Crecentsearch%7C0']\n",
      "5000\n",
      "pinterest\n"
     ]
    }
   ],
   "source": [
    "print(PinterestLogin.PinterestLoginUserName)\n",
    "print(PinterestLogin.PinterestLoginPassword)\n",
    "print(PinterestLinks.PinterestLinks)\n",
    "print(PinterestLinks.PinterestImagesAmount)\n",
    "print(PinterestLinks.PinterestOutputFolder)"
   ]
  },
  {
   "cell_type": "markdown",
   "id": "7df853bd-3288-4080-940b-b9fe0cbbdcf3",
   "metadata": {},
   "source": [
    "## 5. Start scraping\n",
    "\n",
    "If the validation passed, you can click the “Start scraping” button to start the scraping process. A progress bar will indicate the progress in the scraping process.\n",
    "\n",
    "While the scraping is running the results will appear in the gallery widget down below."
   ]
  },
  {
   "cell_type": "code",
   "execution_count": null,
   "id": "21fdf263-2674-4475-a49b-c3d4c57b5962",
   "metadata": {
    "tags": []
   },
   "outputs": [],
   "source": [
    "PinterestScraper = svelte_widget.PinterestScraper()\n",
    "ScraperOutput = widgets.Output()\n",
    "\n",
    "\n",
    "def scraping(change):\n",
    "    if(change.new is True):\n",
    "        with ScraperOutput:\n",
    "            !python ./crawler/main.py -e f'{PinterestLogin.PinterestLoginUserName}' -p f'{PinterestLogin.PinterestLoginPassword}' -d f'{PinterestLinks.PinterestOutputFolder}' -l f'{PinterestLinks.PinterestLinks[0]}' -g '250' -s '1024'\n",
    "\n",
    "\n",
    "PinterestScraper.observe(scraping, names='PinterestScraperClick')\n",
    "\n",
    "display(PinterestScraper, ScraperOutput)"
   ]
  },
  {
   "cell_type": "markdown",
   "id": "9171a1ba-f6c8-45c4-b183-79f5b9873eb8",
   "metadata": {},
   "source": [
    "## 6. Explore the collected dataset\n",
    "\n",
    "Lorem ipsum dolor sit amet, consectetur adipiscing elit. Pellentesque tortor adipiscing duis tortor at cras purus. Quis ultrices at dolor lorem proin maecenas cras senectus. Tortor convallis nec faucibus neque faucibus at ac ut lectus."
   ]
  },
  {
   "cell_type": "code",
   "execution_count": 13,
   "id": "4ced301a-b858-497f-b370-e673313c3b55",
   "metadata": {},
   "outputs": [
    {
     "name": "stdout",
     "output_type": "stream",
     "text": [
      "Open selenium...\n",
      "\n",
      "\n",
      "====== WebDriver manager ======\n",
      "Current google-chrome version is 102.0.5005\n",
      "Get LATEST chromedriver version for 102.0.5005 google-chrome\n",
      "There is no [linux64] chromedriver for browser 102.0.5005 in cache\n",
      "Trying to download new driver from https://chromedriver.storage.googleapis.com/102.0.5005.61/chromedriver_linux64.zip\n",
      "Driver has been saved in cache [/home/jovyan/.wdm/drivers/chromedriver/linux64/102.0.5005.61]\n",
      "^C\n",
      "Traceback (most recent call last):\n",
      "  File \"/home/jovyan/notebooks/./crawler/main.py\", line 102, in <module>\n",
      "    p = Pinterest(email, password)\n",
      "  File \"/home/jovyan/notebooks/crawler/pinterest.py\", line 24, in __init__\n",
      "    self.driver = webdriver.Chrome(ChromeDriverManager().install(), chrome_options=options)\n",
      "  File \"/opt/conda/lib/python3.10/site-packages/selenium/webdriver/chrome/webdriver.py\", line 73, in __init__\n",
      "    self.service.start()\n",
      "  File \"/opt/conda/lib/python3.10/site-packages/selenium/webdriver/common/service.py\", line 102, in start\n",
      "    time.sleep(1)\n",
      "KeyboardInterrupt\n"
     ]
    }
   ],
   "source": []
  },
  {
   "cell_type": "markdown",
   "id": "c8e5d632-5c70-431c-b73f-3b6e141c5aed",
   "metadata": {},
   "source": [
    "# 7.  How to continue\n",
    "\n",
    "Lorem ipsum dolor sit amet, consectetur adipiscing elit. Pellentesque tortor adipiscing duis tortor at cras purus. Quis ultrices at dolor lorem proin maecenas cras senectus. Tortor convallis nec faucibus neque faucibus at ac ut lectus.\n",
    "\n",
    "- [Link to other notebook](https://www.ibm.com)\n",
    "- [Link to other notebook](https://www.ibm.com)"
   ]
  }
 ],
 "metadata": {
  "kernelspec": {
   "display_name": "Python 3 (ipykernel)",
   "language": "python",
   "name": "python3"
  },
  "language_info": {
   "codemirror_mode": {
    "name": "ipython",
    "version": 3
   },
   "file_extension": ".py",
   "mimetype": "text/x-python",
   "name": "python",
   "nbconvert_exporter": "python",
   "pygments_lexer": "ipython3",
   "version": "3.10.4"
  }
 },
 "nbformat": 4,
 "nbformat_minor": 5
}
