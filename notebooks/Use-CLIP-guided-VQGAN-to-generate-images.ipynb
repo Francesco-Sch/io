{
 "cells": [
  {
   "cell_type": "markdown",
   "id": "454b8692-e387-4e46-9475-950a1d783b87",
   "metadata": {},
   "source": [
    "# Use CLIP-guided VQGAN to generate images\n",
    "\n",
    "Lorem ipsum dolor sit amet, consectetur adipiscing elit. Pellentesque tortor adipiscing duis tortor at cras purus. Quis ultrices at dolor lorem proin maecenas cras senectus. Tortor convallis nec faucibus neque faucibus at ac ut lectus. Morbi cras pharetra lectus elit tempor ornare donec scelerisque purus.\n",
    "\n",
    "Lorem ipsum dolor sit amet, consectetur adipiscing elit. Pellentesque tortor adipiscing duis tortor at cras purus. Quis ultrices at dolor lorem proin maecenas cras senectus. Tortor convallis nec faucibus neque faucibus at ac ut lectus. Morbi cras pharetra lectus elit tempor ornare donec scelerisque purus."
   ]
  },
  {
   "cell_type": "code",
   "execution_count": null,
   "id": "5754acd5-14ff-4e38-bcec-2677c0ebfcc8",
   "metadata": {},
   "outputs": [],
   "source": []
  }
 ],
 "metadata": {
  "kernelspec": {
   "display_name": "Python 3 (ipykernel)",
   "language": "python",
   "name": "python3"
  },
  "language_info": {
   "codemirror_mode": {
    "name": "ipython",
    "version": 3
   },
   "file_extension": ".py",
   "mimetype": "text/x-python",
   "name": "python",
   "nbconvert_exporter": "python",
   "pygments_lexer": "ipython3",
   "version": "3.9.12"
  }
 },
 "nbformat": 4,
 "nbformat_minor": 5
}
