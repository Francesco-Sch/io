{
 "cells": [
  {
   "cell_type": "markdown",
   "id": "454b8692-e387-4e46-9475-950a1d783b87",
   "metadata": {},
   "source": [
    "# Use CLIP-guided VQGAN to generate images\n",
    "\n",
    "Lorem ipsum dolor sit amet, consectetur adipiscing elit. Pellentesque tortor adipiscing duis tortor at cras purus. Quis ultrices at dolor lorem proin maecenas cras senectus. Tortor convallis nec faucibus neque faucibus at ac ut lectus. Morbi cras pharetra lectus elit tempor ornare donec scelerisque purus.\n",
    "\n",
    "Lorem ipsum dolor sit amet, consectetur adipiscing elit. Pellentesque tortor adipiscing duis tortor at cras purus. Quis ultrices at dolor lorem proin maecenas cras senectus. Tortor convallis nec faucibus neque faucibus at ac ut lectus. Morbi cras pharetra lectus elit tempor ornare donec scelerisque purus."
   ]
  },
  {
   "cell_type": "markdown",
   "id": "65b36329-b397-41f4-bb47-7be017e1abb2",
   "metadata": {},
   "source": [
    "## 1. Set requirements"
   ]
  },
  {
   "cell_type": "code",
   "execution_count": 15,
   "id": "44ab27b1-35df-4830-8769-27d166ecb27c",
   "metadata": {
    "jupyter": {
     "source_hidden": true
    },
    "tags": []
   },
   "outputs": [
    {
     "name": "stdout",
     "output_type": "stream",
     "text": [
      "fatal: destination path '/home/jovyan/utilities/VQGAN-CLIP' already exists and is not an empty directory.\n",
      "/home/jovyan/utilities/VQGAN-CLIP\n",
      "fatal: destination path 'CLIP' already exists and is not an empty directory.\n",
      "fatal: destination path 'taming-transformers' already exists and is not an empty directory.\n",
      "Looking in indexes: https://pypi.org/simple, https://download.pytorch.org/whl/cu113\n",
      "Requirement already satisfied: torch in /opt/conda/lib/python3.10/site-packages (1.11.0+cu113)\n",
      "Requirement already satisfied: torchvision in /opt/conda/lib/python3.10/site-packages (0.12.0+cu113)\n",
      "Requirement already satisfied: torchaudio in /opt/conda/lib/python3.10/site-packages (0.11.0+cu113)\n",
      "Requirement already satisfied: typing-extensions in /opt/conda/lib/python3.10/site-packages (from torch) (4.2.0)\n",
      "Requirement already satisfied: pillow!=8.3.*,>=5.3.0 in /opt/conda/lib/python3.10/site-packages (from torchvision) (9.1.0)\n",
      "Requirement already satisfied: numpy in /opt/conda/lib/python3.10/site-packages (from torchvision) (1.22.4)\n",
      "Requirement already satisfied: requests in /opt/conda/lib/python3.10/site-packages (from torchvision) (2.26.0)\n",
      "Requirement already satisfied: certifi>=2017.4.17 in /opt/conda/lib/python3.10/site-packages (from requests->torchvision) (2021.5.30)\n",
      "Requirement already satisfied: idna<4,>=2.5 in /opt/conda/lib/python3.10/site-packages (from requests->torchvision) (3.2)\n",
      "Requirement already satisfied: charset-normalizer~=2.0.0 in /opt/conda/lib/python3.10/site-packages (from requests->torchvision) (2.0.4)\n",
      "Requirement already satisfied: urllib3<1.27,>=1.21.1 in /opt/conda/lib/python3.10/site-packages (from requests->torchvision) (1.26.6)\n",
      "Requirement already satisfied: ftfy in /opt/conda/lib/python3.10/site-packages (6.1.1)\n",
      "Requirement already satisfied: regex in /opt/conda/lib/python3.10/site-packages (2022.6.2)\n",
      "Requirement already satisfied: tqdm in /opt/conda/lib/python3.10/site-packages (4.64.0)\n",
      "Requirement already satisfied: omegaconf in /opt/conda/lib/python3.10/site-packages (2.2.2)\n",
      "Requirement already satisfied: pytorch-lightning in /opt/conda/lib/python3.10/site-packages (1.6.4)\n",
      "Requirement already satisfied: IPython in /opt/conda/lib/python3.10/site-packages (8.4.0)\n",
      "Requirement already satisfied: kornia in /opt/conda/lib/python3.10/site-packages (0.6.5)\n",
      "Requirement already satisfied: imageio in /opt/conda/lib/python3.10/site-packages (2.19.3)\n",
      "Requirement already satisfied: imageio-ffmpeg in /opt/conda/lib/python3.10/site-packages (0.4.7)\n",
      "Requirement already satisfied: einops in /opt/conda/lib/python3.10/site-packages (0.4.1)\n",
      "Requirement already satisfied: torch_optimizer in /opt/conda/lib/python3.10/site-packages (0.3.0)\n",
      "Requirement already satisfied: wcwidth>=0.2.5 in /opt/conda/lib/python3.10/site-packages (from ftfy) (0.2.5)\n",
      "Requirement already satisfied: antlr4-python3-runtime==4.9.* in /opt/conda/lib/python3.10/site-packages (from omegaconf) (4.9.3)\n",
      "Requirement already satisfied: PyYAML>=5.1.0 in /opt/conda/lib/python3.10/site-packages (from omegaconf) (5.4.1)\n",
      "Requirement already satisfied: packaging>=17.0 in /opt/conda/lib/python3.10/site-packages (from pytorch-lightning) (21.3)\n",
      "Requirement already satisfied: typing-extensions>=4.0.0 in /opt/conda/lib/python3.10/site-packages (from pytorch-lightning) (4.2.0)\n",
      "Requirement already satisfied: torch>=1.8.* in /opt/conda/lib/python3.10/site-packages (from pytorch-lightning) (1.11.0+cu113)\n",
      "Requirement already satisfied: protobuf<=3.20.1 in /opt/conda/lib/python3.10/site-packages (from pytorch-lightning) (3.19.4)\n",
      "Requirement already satisfied: numpy>=1.17.2 in /opt/conda/lib/python3.10/site-packages (from pytorch-lightning) (1.22.4)\n",
      "Requirement already satisfied: torchmetrics>=0.4.1 in /opt/conda/lib/python3.10/site-packages (from pytorch-lightning) (0.9.1)\n",
      "Requirement already satisfied: fsspec[http]!=2021.06.0,>=2021.05.0 in /opt/conda/lib/python3.10/site-packages (from pytorch-lightning) (2022.5.0)\n",
      "Requirement already satisfied: pyDeprecate>=0.3.1 in /opt/conda/lib/python3.10/site-packages (from pytorch-lightning) (0.3.2)\n",
      "Requirement already satisfied: tensorboard>=2.2.0 in /opt/conda/lib/python3.10/site-packages (from pytorch-lightning) (2.9.1)\n",
      "Requirement already satisfied: pickleshare in /opt/conda/lib/python3.10/site-packages (from IPython) (0.7.5)\n",
      "Requirement already satisfied: prompt-toolkit!=3.0.0,!=3.0.1,<3.1.0,>=2.0.0 in /opt/conda/lib/python3.10/site-packages (from IPython) (3.0.29)\n",
      "Requirement already satisfied: setuptools>=18.5 in /opt/conda/lib/python3.10/site-packages (from IPython) (62.3.4)\n",
      "Requirement already satisfied: traitlets>=5 in /opt/conda/lib/python3.10/site-packages (from IPython) (5.2.2.post1)\n",
      "Requirement already satisfied: stack-data in /opt/conda/lib/python3.10/site-packages (from IPython) (0.2.0)\n",
      "Requirement already satisfied: pexpect>4.3 in /opt/conda/lib/python3.10/site-packages (from IPython) (4.8.0)\n",
      "Requirement already satisfied: jedi>=0.16 in /opt/conda/lib/python3.10/site-packages (from IPython) (0.18.1)\n",
      "Requirement already satisfied: backcall in /opt/conda/lib/python3.10/site-packages (from IPython) (0.2.0)\n",
      "Requirement already satisfied: matplotlib-inline in /opt/conda/lib/python3.10/site-packages (from IPython) (0.1.3)\n",
      "Requirement already satisfied: decorator in /opt/conda/lib/python3.10/site-packages (from IPython) (5.1.1)\n",
      "Requirement already satisfied: pygments>=2.4.0 in /opt/conda/lib/python3.10/site-packages (from IPython) (2.12.0)\n",
      "Requirement already satisfied: pillow>=8.3.2 in /opt/conda/lib/python3.10/site-packages (from imageio) (9.1.0)\n",
      "Requirement already satisfied: pytorch-ranger>=0.1.1 in /opt/conda/lib/python3.10/site-packages (from torch_optimizer) (0.1.1)\n",
      "Requirement already satisfied: requests in /opt/conda/lib/python3.10/site-packages (from fsspec[http]!=2021.06.0,>=2021.05.0->pytorch-lightning) (2.26.0)\n",
      "Requirement already satisfied: aiohttp in /opt/conda/lib/python3.10/site-packages (from fsspec[http]!=2021.06.0,>=2021.05.0->pytorch-lightning) (3.8.1)\n",
      "Requirement already satisfied: parso<0.9.0,>=0.8.0 in /opt/conda/lib/python3.10/site-packages (from jedi>=0.16->IPython) (0.8.3)\n",
      "Requirement already satisfied: pyparsing!=3.0.5,>=2.0.2 in /opt/conda/lib/python3.10/site-packages (from packaging>=17.0->pytorch-lightning) (3.0.9)\n",
      "Requirement already satisfied: ptyprocess>=0.5 in /opt/conda/lib/python3.10/site-packages (from pexpect>4.3->IPython) (0.7.0)\n",
      "Requirement already satisfied: google-auth<3,>=1.6.3 in /opt/conda/lib/python3.10/site-packages (from tensorboard>=2.2.0->pytorch-lightning) (1.35.0)\n",
      "Requirement already satisfied: wheel>=0.26 in /opt/conda/lib/python3.10/site-packages (from tensorboard>=2.2.0->pytorch-lightning) (0.37.1)\n",
      "Requirement already satisfied: werkzeug>=1.0.1 in /opt/conda/lib/python3.10/site-packages (from tensorboard>=2.2.0->pytorch-lightning) (2.1.2)\n",
      "Requirement already satisfied: absl-py>=0.4 in /opt/conda/lib/python3.10/site-packages (from tensorboard>=2.2.0->pytorch-lightning) (1.1.0)\n",
      "Requirement already satisfied: tensorboard-data-server<0.7.0,>=0.6.0 in /opt/conda/lib/python3.10/site-packages (from tensorboard>=2.2.0->pytorch-lightning) (0.6.1)\n",
      "Requirement already satisfied: google-auth-oauthlib<0.5,>=0.4.1 in /opt/conda/lib/python3.10/site-packages (from tensorboard>=2.2.0->pytorch-lightning) (0.4.6)\n",
      "Requirement already satisfied: markdown>=2.6.8 in /opt/conda/lib/python3.10/site-packages (from tensorboard>=2.2.0->pytorch-lightning) (3.3.7)\n",
      "Requirement already satisfied: grpcio>=1.24.3 in /opt/conda/lib/python3.10/site-packages (from tensorboard>=2.2.0->pytorch-lightning) (1.46.3)\n",
      "Requirement already satisfied: tensorboard-plugin-wit>=1.6.0 in /opt/conda/lib/python3.10/site-packages (from tensorboard>=2.2.0->pytorch-lightning) (1.8.1)\n",
      "Requirement already satisfied: asttokens in /opt/conda/lib/python3.10/site-packages (from stack-data->IPython) (2.0.5)\n",
      "Requirement already satisfied: executing in /opt/conda/lib/python3.10/site-packages (from stack-data->IPython) (0.8.3)\n",
      "Requirement already satisfied: pure-eval in /opt/conda/lib/python3.10/site-packages (from stack-data->IPython) (0.2.2)\n",
      "Requirement already satisfied: rsa<5,>=3.1.4 in /opt/conda/lib/python3.10/site-packages (from google-auth<3,>=1.6.3->tensorboard>=2.2.0->pytorch-lightning) (4.8)\n",
      "Requirement already satisfied: six>=1.9.0 in /opt/conda/lib/python3.10/site-packages (from google-auth<3,>=1.6.3->tensorboard>=2.2.0->pytorch-lightning) (1.16.0)\n",
      "Requirement already satisfied: cachetools<5.0,>=2.0.0 in /opt/conda/lib/python3.10/site-packages (from google-auth<3,>=1.6.3->tensorboard>=2.2.0->pytorch-lightning) (4.2.4)\n",
      "Requirement already satisfied: pyasn1-modules>=0.2.1 in /opt/conda/lib/python3.10/site-packages (from google-auth<3,>=1.6.3->tensorboard>=2.2.0->pytorch-lightning) (0.2.8)\n",
      "Requirement already satisfied: requests-oauthlib>=0.7.0 in /opt/conda/lib/python3.10/site-packages (from google-auth-oauthlib<0.5,>=0.4.1->tensorboard>=2.2.0->pytorch-lightning) (1.3.1)\n",
      "Requirement already satisfied: urllib3<1.27,>=1.21.1 in /opt/conda/lib/python3.10/site-packages (from requests->fsspec[http]!=2021.06.0,>=2021.05.0->pytorch-lightning) (1.26.6)\n",
      "Requirement already satisfied: certifi>=2017.4.17 in /opt/conda/lib/python3.10/site-packages (from requests->fsspec[http]!=2021.06.0,>=2021.05.0->pytorch-lightning) (2021.5.30)\n",
      "Requirement already satisfied: charset-normalizer~=2.0.0 in /opt/conda/lib/python3.10/site-packages (from requests->fsspec[http]!=2021.06.0,>=2021.05.0->pytorch-lightning) (2.0.4)\n",
      "Requirement already satisfied: idna<4,>=2.5 in /opt/conda/lib/python3.10/site-packages (from requests->fsspec[http]!=2021.06.0,>=2021.05.0->pytorch-lightning) (3.2)\n",
      "Requirement already satisfied: frozenlist>=1.1.1 in /opt/conda/lib/python3.10/site-packages (from aiohttp->fsspec[http]!=2021.06.0,>=2021.05.0->pytorch-lightning) (1.3.0)\n",
      "Requirement already satisfied: async-timeout<5.0,>=4.0.0a3 in /opt/conda/lib/python3.10/site-packages (from aiohttp->fsspec[http]!=2021.06.0,>=2021.05.0->pytorch-lightning) (4.0.2)\n",
      "Requirement already satisfied: yarl<2.0,>=1.0 in /opt/conda/lib/python3.10/site-packages (from aiohttp->fsspec[http]!=2021.06.0,>=2021.05.0->pytorch-lightning) (1.7.2)\n",
      "Requirement already satisfied: aiosignal>=1.1.2 in /opt/conda/lib/python3.10/site-packages (from aiohttp->fsspec[http]!=2021.06.0,>=2021.05.0->pytorch-lightning) (1.2.0)\n",
      "Requirement already satisfied: attrs>=17.3.0 in /opt/conda/lib/python3.10/site-packages (from aiohttp->fsspec[http]!=2021.06.0,>=2021.05.0->pytorch-lightning) (21.4.0)\n",
      "Requirement already satisfied: multidict<7.0,>=4.5 in /opt/conda/lib/python3.10/site-packages (from aiohttp->fsspec[http]!=2021.06.0,>=2021.05.0->pytorch-lightning) (6.0.2)\n",
      "Requirement already satisfied: pyasn1<0.5.0,>=0.4.6 in /opt/conda/lib/python3.10/site-packages (from pyasn1-modules>=0.2.1->google-auth<3,>=1.6.3->tensorboard>=2.2.0->pytorch-lightning) (0.4.8)\n",
      "Requirement already satisfied: oauthlib>=3.0.0 in /opt/conda/lib/python3.10/site-packages (from requests-oauthlib>=0.7.0->google-auth-oauthlib<0.5,>=0.4.1->tensorboard>=2.2.0->pytorch-lightning) (3.2.0)\n",
      "mkdir: cannot create directory ‘checkpoints’: File exists\n",
      "** Resuming transfer from byte position 692\n",
      "  % Total    % Received % Xferd  Average Speed   Time    Time     Time  Current\n",
      "                                 Dload  Upload   Total   Spent    Left  Speed\n",
      "  0     0    0     0    0     0      0      0 --:--:-- --:--:-- --:--:--     0\n",
      "  0     0    0     0    0     0      0      0 --:--:-- --:--:-- --:--:--     0\n",
      "** Resuming transfer from byte position 980092370\n",
      "  % Total    % Received % Xferd  Average Speed   Time    Time     Time  Current\n",
      "                                 Dload  Upload   Total   Spent    Left  Speed\n",
      "  0     0    0     0    0     0      0      0 --:--:-- --:--:-- --:--:--     0\n",
      "  0     0    0     0    0     0      0      0 --:--:-- --:--:-- --:--:--     0\n"
     ]
    }
   ],
   "source": [
    "# ------------------\n",
    "# IMPORTS\n",
    "# ------------------\n",
    "import os\n",
    "from IPython.display import display\n",
    "import ipywidgets as widgets\n",
    "import svelte_widget\n",
    "\n",
    "# ------------------\n",
    "# CREATE DIRECTORY\n",
    "# ------------------\n",
    "if os.path.isdir('/home/jovyan/utilities/VQGAN-CLIP/') is False:\n",
    "    if os.path.isdir('/home/jovyan/utilities/') is False:\n",
    "        os.mkdir('/home/jovyan/utilities/')\n",
    "\n",
    "    os.mkdir('/home/jovyan/utilities/VQGAN-CLIP')\n",
    "\n",
    "# ------------------\n",
    "# CLONE REPOSITORY\n",
    "# ------------------\n",
    "!git clone 'https://github.com/Francesco-Sch/VQGAN-CLIP' /home/jovyan/utilities/VQGAN-CLIP\n",
    "%cd /home/jovyan/utilities/VQGAN-CLIP\n",
    "!git clone 'https://github.com/openai/CLIP'\n",
    "!git clone 'https://github.com/CompVis/taming-transformers'\n",
    "\n",
    "# ------------------\n",
    "# INSTALL PACKAGES\n",
    "# ------------------\n",
    "!pip3 install torch torchvision torchaudio --extra-index-url https://download.pytorch.org/whl/cu113\n",
    "!pip install ftfy regex tqdm omegaconf pytorch-lightning IPython kornia imageio imageio-ffmpeg einops torch_optimizer\n",
    "\n",
    "# ------------------\n",
    "# INSTALL PRE-TRAINED MODELS\n",
    "# ------------------\n",
    "!mkdir checkpoints\n",
    "\n",
    "!curl -L -o checkpoints/vqgan_imagenet_f16_16384.yaml -C - 'https://heibox.uni-heidelberg.de/d/a7530b09fed84f80a887/files/?p=%2Fconfigs%2Fmodel.yaml&dl=1' #ImageNet 16384\n",
    "!curl -L -o checkpoints/vqgan_imagenet_f16_16384.ckpt -C - 'https://heibox.uni-heidelberg.de/d/a7530b09fed84f80a887/files/?p=%2Fckpts%2Flast.ckpt&dl=1' #ImageNet 16384"
   ]
  },
  {
   "cell_type": "markdown",
   "id": "e19fd9e5-b7ab-4d95-9a5d-c0fd3de5443c",
   "metadata": {},
   "source": [
    "## 2. Enter text prompt\n",
    "\n",
    "Lorem ipsum dolor sit amet, consectetur adipiscing elit. Pellentesque tortor adipiscing duis tortor at cras purus. Quis ultrices at dolor lorem proin maecenas cras senectus. Tortor convallis nec faucibus neque faucibus at ac ut lectus. Morbi cras pharetra lectus elit tempor ornare donec scelerisque purus."
   ]
  },
  {
   "cell_type": "code",
   "execution_count": 16,
   "id": "d2cf80c3-2f0d-4d20-a106-2e0af98c06ad",
   "metadata": {
    "jupyter": {
     "source_hidden": true
    },
    "tags": []
   },
   "outputs": [
    {
     "data": {
      "application/vnd.jupyter.widget-view+json": {
       "model_id": "483f55cec7af4768af7f9019e17d75d7",
       "version_major": 2,
       "version_minor": 0
      },
      "text/plain": [
       "TextToImagePrompt()"
      ]
     },
     "metadata": {},
     "output_type": "display_data"
    }
   ],
   "source": [
    "TextToImagePrompt = svelte_widget.TextToImagePrompt()\n",
    "TextToImagePrompt"
   ]
  },
  {
   "cell_type": "markdown",
   "id": "2f039aab-9b6d-4855-adc2-815d252e2464",
   "metadata": {},
   "source": [
    "## 3. Optionally set inital image\n",
    "\n",
    "CAUTION: This is optional and not required to get the model running. If you do not want to use an inital image just leave it empty.\n",
    "\n",
    "Lorem ipsum dolor sit amet, consectetur adipiscing elit. Pellentesque tortor adipiscing duis tortor at cras purus. Quis ultrices at dolor lorem proin maecenas cras senectus. Tortor convallis nec faucibus."
   ]
  },
  {
   "cell_type": "code",
   "execution_count": 17,
   "id": "b1e3b98a-53bf-430b-8042-9d1f7c40f264",
   "metadata": {},
   "outputs": [
    {
     "data": {
      "text/plain": [
       "[{'attribute': 'Cool', 'weight': 0.5}, {'attribute': 'Random', 'weight': 0.3}]"
      ]
     },
     "execution_count": 17,
     "metadata": {},
     "output_type": "execute_result"
    }
   ],
   "source": [
    "TextToImagePrompt.TextToImageAttributes"
   ]
  },
  {
   "cell_type": "markdown",
   "id": "9dc74b9b-ce80-4e5c-b431-ba210f35c41f",
   "metadata": {},
   "source": [
    "## 4. Set generation options\n",
    "\n",
    "Lorem ipsum dolor sit amet, consectetur adipiscing elit. Pellentesque tortor adipiscing duis tortor at cras purus. Quis ultrices at dolor lorem proin maecenas cras senectus. Tortor convallis nec faucibus."
   ]
  },
  {
   "cell_type": "code",
   "execution_count": 3,
   "id": "1bdb0f2a-e0a2-4097-aa72-d9f21a84a269",
   "metadata": {
    "jupyter": {
     "source_hidden": true
    },
    "tags": []
   },
   "outputs": [
    {
     "data": {
      "application/vnd.jupyter.widget-view+json": {
       "model_id": "60c0049d204142d88b81c580518d17e2",
       "version_major": 2,
       "version_minor": 0
      },
      "text/plain": [
       "TextToImageOptions()"
      ]
     },
     "metadata": {},
     "output_type": "display_data"
    }
   ],
   "source": [
    "TextToImageOptions = svelte_widget.TextToImageOptions()\n",
    "TextToImageOptions"
   ]
  },
  {
   "cell_type": "markdown",
   "id": "3c3c71e8-41bd-4798-b624-99e8c8e12ea0",
   "metadata": {},
   "source": [
    "## 5. Validate your settings\n",
    "\n",
    "Click the validation button to check if all your settings and inputs are correct.\n",
    "If everything is correct, you can continue with the generation process under “Start generation”. If something is wrong you’ll get an error message which tells you what is missing and how to fix it."
   ]
  },
  {
   "cell_type": "code",
   "execution_count": 4,
   "id": "2900ed7b-1979-4d22-8c12-a8027f3f886e",
   "metadata": {
    "jupyter": {
     "source_hidden": true
    },
    "tags": []
   },
   "outputs": [
    {
     "data": {
      "application/vnd.jupyter.widget-view+json": {
       "model_id": "e05d654491d04a92873b90896f543e36",
       "version_major": 2,
       "version_minor": 0
      },
      "text/plain": [
       "Validation(ValidationMessage='Everthing seems good. Continue with the next cell.', ValidationStatus='success')"
      ]
     },
     "metadata": {},
     "output_type": "display_data"
    }
   ],
   "source": [
    "Validation = svelte_widget.Validation()\n",
    "\n",
    "try:\n",
    "    TextToImagePrompt.TextToImagePrompt\n",
    "except NameError:\n",
    "    Validation.ValidationStatus = \"error\"\n",
    "    Validation.ValidationMessage = \"There is no text prompt set. Execute the cell under '2. Enter text prompt' again.\"\n",
    "\n",
    "    display(Validation)\n",
    "    raise\n",
    "\n",
    "try:\n",
    "    TextToImageOptions.TextToImageOptionFolder\n",
    "except NameError:\n",
    "    Validation.ValidationStatus = \"error\"\n",
    "    Validation.ValidationMessage = \"There is no output folder defined. Execute the cell under '4. Set generation options' again.\" \n",
    "\n",
    "    display(Validation)\n",
    "    raise\n",
    "\n",
    "try:\n",
    "    TextToImageOptions.TextToImageOptionWidth\n",
    "except NameError:\n",
    "    Validation.ValidationStatus = \"error\"\n",
    "    Validation.ValidationMessage = \"Width for the generated image is not defined. Execute the cell under '4. Set generation options' again.\"\n",
    "\n",
    "    display(Validation)\n",
    "    raise\n",
    "\n",
    "try:\n",
    "    TextToImageOptions.TextToImageOptionHeight\n",
    "except NameError:\n",
    "    Validation.ValidationStatus = \"error\"\n",
    "    Validation.ValidationMessage = \"Height for the generated image is not defined. Execute the cell under '4. Set generation options' again.\"\n",
    "\n",
    "    display(Validation)\n",
    "    raise\n",
    "\n",
    "try:\n",
    "    TextToImageOptions.TextToImageOptionIterations\n",
    "except NameError:\n",
    "    Validation.ValidationStatus = \"error\"\n",
    "    Validation.ValidationMessage = \"Iterations for the generation process are not set. Execute the cell under '4. Set generation options' again.\"\n",
    "\n",
    "    display(Validation)\n",
    "    raise\n",
    "\n",
    "Validation.ValidationStatus = \"success\"\n",
    "Validation.ValidationMessage = \"Everthing seems good. Continue with the next cell.\"\n",
    "\n",
    "display(Validation)"
   ]
  },
  {
   "cell_type": "markdown",
   "id": "c815fe57-d073-48c0-b1cd-80cac247d497",
   "metadata": {},
   "source": [
    "## 6. Start the generation process\n",
    "\n",
    "Lorem ipsum dolor sit amet, consectetur adipiscing elit. Pellentesque tortor adipiscing duis tortor at cras purus. Quis ultrices at dolor lorem proin maecenas cras senectus. Tortor convallis nec faucibus neque faucibus at ac ut lectus. Morbi cras pharetra lectus elit tempor ornare donec scelerisque purus.\n",
    "\n",
    "Lorem ipsum dolor sit amet, consectetur adipiscing elit. Pellentesque tortor adipiscing duis tortor at cras purus. Quis ultrices at dolor lorem proin maecenas cras senectus. Tortor convallis nec faucibus neque faucibus at ac ut lectus. Morbi cras pharetra lectus elit tempor ornare donec scelerisque purus."
   ]
  },
  {
   "cell_type": "code",
   "execution_count": 5,
   "id": "54ebc8a9-2014-44c0-9d65-380838801275",
   "metadata": {},
   "outputs": [
    {
     "ename": "SyntaxError",
     "evalue": "incomplete input (2134423360.py, line 3)",
     "output_type": "error",
     "traceback": [
      "\u001b[0;36m  Input \u001b[0;32mIn [5]\u001b[0;36m\u001b[0m\n\u001b[0;31m    print(\u001b[0m\n\u001b[0m          ^\u001b[0m\n\u001b[0;31mSyntaxError\u001b[0m\u001b[0;31m:\u001b[0m incomplete input\n"
     ]
    }
   ],
   "source": [
    "!pwdt"
   ]
  },
  {
   "cell_type": "code",
   "execution_count": null,
   "id": "75dcf49d-98cb-4e87-ae4a-c54202f5f80a",
   "metadata": {
    "tags": []
   },
   "outputs": [
    {
     "data": {
      "application/vnd.jupyter.widget-view+json": {
       "model_id": "d77e0b733c344e20a10a902434ae64d8",
       "version_major": 2,
       "version_minor": 0
      },
      "text/plain": [
       "TextToImageInit()"
      ]
     },
     "metadata": {},
     "output_type": "display_data"
    },
    {
     "data": {
      "application/vnd.jupyter.widget-view+json": {
       "model_id": "08ca26bab1df48289966de8488c8171a",
       "version_major": 2,
       "version_minor": 0
      },
      "text/plain": [
       "Output()"
      ]
     },
     "metadata": {},
     "output_type": "display_data"
    }
   ],
   "source": [
    "TextToImageInit = svelte_widget.TextToImageInit()\n",
    "TextToImageOutput = widgets.Output()\n",
    "\n",
    "# Create directory, if it is not existing\n",
    "if os.path.isdir('/home/jovyan/output/') is False:\n",
    "    os.mkdir('/home/jovyan/output/')\n",
    "\n",
    "if os.path.isdir(f'/home/jovyan/output/{TextToImageOptions.TextToImageOptionFolder}/') is False:\n",
    "    os.mkdir(f'/home/jovyan/output/{TextToImageOptions.TextToImageOptionFolder}/')\n",
    "    \n",
    "# Compute attributes\n",
    "computedAttributes = ''\n",
    "\n",
    "for attribute in TextToImagePrompt.TextToImageAttributes:\n",
    "    computedAttributes += ' |' + ' ' + attribute['attribute'] + ':' + str(attribute['weight'])\n",
    "\n",
    "def generate(change):\n",
    "    if(change.new is True):\n",
    "        with TextToImageOutput:\n",
    "            !python generate.py -p '{TextToImagePrompt.TextToImagePrompt} {computedAttributes}' -i '{TextToImageOptions.TextToImageOptionIterations}' -o '/home/jovyan/output/{TextToImageOptions.TextToImageOptionFolder}/image' -s '{TextToImageOptions.TextToImageOptionWidth}' '{TextToImageOptions.TextToImageOptionHeight}' -cuts '5'\n",
    "\n",
    "TextToImageInit.observe(generate, names='TextToImageInitClick')\n",
    "\n",
    "display(TextToImageInit, TextToImageOutput)"
   ]
  },
  {
   "cell_type": "markdown",
   "id": "e4291eaa-7671-4725-aee6-d1754a729271",
   "metadata": {},
   "source": [
    "## 7. Output\n",
    "\n",
    "Lorem ipsum dolor sit amet, consectetur adipiscing elit. Pellentesque tortor adipiscing duis tortor at cras purus. Quis ultrices at dolor lorem proin maecenas cras senectus. Tortor convallis nec faucibus neque faucibus at ac ut lectus. Morbi cras pharetra lectus elit tempor ornare donec scelerisque purus."
   ]
  },
  {
   "cell_type": "code",
   "execution_count": 25,
   "id": "38e69325-b30a-4aa2-849f-ec28b487c4e0",
   "metadata": {},
   "outputs": [
    {
     "name": "stdout",
     "output_type": "stream",
     "text": [
      " | Cool 0.5 | Random 0.3\n"
     ]
    }
   ],
   "source": []
  },
  {
   "cell_type": "code",
   "execution_count": null,
   "id": "45bbb844-d56c-417c-8b6a-fdea254aca9d",
   "metadata": {},
   "outputs": [],
   "source": []
  }
 ],
 "metadata": {
  "kernelspec": {
   "display_name": "Python 3 (ipykernel)",
   "language": "python",
   "name": "python3"
  },
  "language_info": {
   "codemirror_mode": {
    "name": "ipython",
    "version": 3
   },
   "file_extension": ".py",
   "mimetype": "text/x-python",
   "name": "python",
   "nbconvert_exporter": "python",
   "pygments_lexer": "ipython3",
   "version": "3.10.4"
  }
 },
 "nbformat": 4,
 "nbformat_minor": 5
}
