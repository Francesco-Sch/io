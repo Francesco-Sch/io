{
 "cells": [
  {
   "cell_type": "markdown",
   "id": "c42ef4dc-be89-476c-a2c8-98849895ee0f",
   "metadata": {
    "tags": []
   },
   "source": [
    "# Custom Svelte Widget\n",
    "\n",
    "Based on the tutorial found [here](https://cabreraalex.medium.com/creating-reactive-jupyter-widgets-with-svelte-ef2fb580c05). \n",
    "You can find the widget under /widgets/svelte-widget/"
   ]
  },
  {
   "cell_type": "markdown",
   "id": "20899ae8-dcce-42e9-ab63-883ef90f6c32",
   "metadata": {},
   "source": [
    "Before you can start using this widget you have to start the build and watch process for the widget.\n",
    "\n",
    "For that open up a terminal. Navigate inside the folder /widgets/svelte-widget.\n",
    "\n",
    "Create a dev environment:\n",
    "```\n",
    "conda create -n widget-dev -c conda-forge nodejs yarn python jupyterlab jupyter-packaging\n",
    "conda activate widget-dev\n",
    "```\n",
    "\n",
    "Install the plugin. \n",
    "```\n",
    "pip install -e .\n",
    "```\n",
    "\n",
    "When developing your extensions, you need to manually enable your extensions with the notebook / lab frontend. \n",
    "```\n",
    "jupyter labextension develop --overwrite .\n",
    "yarn run build\n",
    "```\n",
    "\n",
    "Start watching for changes in the plugin source directory.\n",
    "After that restart the kernel and reload the browser window.\n",
    "```\n",
    "# Watch the source directory in one terminal, automatically rebuilding when needed\n",
    "yarn watch\n",
    "# Watch to rebuild JupyterLab in another terminal\n",
    "jupyter labextension watch\n",
    "```"
   ]
  },
  {
   "cell_type": "markdown",
   "id": "d413c385-6956-4979-b3c0-e683e3851e6b",
   "metadata": {},
   "source": [
    "Lorem ipsum dolor sit amet, consectetur adipiscing elit, sed do eiusmod tempor incididunt ut labore et dolore magna aliqua. Ut enim ad minim veniam, quis nostrud exercitation ullamco laboris nisi ut aliquip ex ea commodo consequat. \n",
    "Duis aute irure dolor in reprehenderit in voluptate velit esse cillum dolore eu fugiat nulla pariatur. Excepteur sint occaecat cupidatat non proident, sunt in culpa qui officia deserunt mollit anim id est laborum.\n",
    "Lorem ipsum dolor sit amet, consectetur adipiscing elit, sed do eiusmod tempor incididunt ut labore et dolore magna aliqua. Ut enim ad minim veniam, quis nostrud exercitation ullamco laboris nisi ut aliquip ex ea commodo consequat. \n",
    "Duis aute irure dolor in reprehenderit in voluptate velit esse cillum dolore eu fugiat nulla pariatur. Excepteur sint occaecat cupidatat non proident, sunt in culpa qui officia deserunt mollit anim id est laborum."
   ]
  },
  {
   "cell_type": "code",
   "execution_count": 3,
   "id": "ea44b78a-67b1-4056-99f5-50afd39bd54f",
   "metadata": {},
   "outputs": [],
   "source": [
    "import svelte_widget"
   ]
  },
  {
   "cell_type": "code",
   "execution_count": 4,
   "id": "db24aefb-9ab2-4486-9630-2ff7487e64e5",
   "metadata": {},
   "outputs": [
    {
     "data": {
      "application/vnd.jupyter.widget-view+json": {
       "model_id": "b667a53a69f248ae95ff69059b355dc4",
       "version_major": 2,
       "version_minor": 0
      },
      "text/plain": [
       "Slider()"
      ]
     },
     "metadata": {},
     "output_type": "display_data"
    }
   ],
   "source": [
    "w = svelte_widget.Slider()\n",
    "w"
   ]
  },
  {
   "cell_type": "code",
   "execution_count": 5,
   "id": "bd1e0545-59bf-44d2-a2fe-9fce3c049a2a",
   "metadata": {},
   "outputs": [
    {
     "name": "stdout",
     "output_type": "stream",
     "text": [
      "JupyterLab v3.4.0\n",
      "/opt/conda/share/jupyter/labextensions\n",
      "        jupyterlab_pygments v0.2.2 \u001b[32menabled\u001b[0m \u001b[32mOK\u001b[0m (python, jupyterlab_pygments)\n",
      "        svelte-widget v0.1.0 \u001b[32menabled\u001b[0m \u001b[32mOK\u001b[0m\n",
      "        IO-Theme v0.1.0 \u001b[32menabled\u001b[0m \u001b[32mOK\u001b[0m\n",
      "        ipylab v0.5.2 \u001b[32menabled\u001b[0m \u001b[32mOK\u001b[0m (python, ipylab)\n",
      "        nbdime-jupyterlab v2.1.1 \u001b[32menabled\u001b[0m \u001b[32mOK\u001b[0m\n",
      "        @jupyter-widgets/jupyterlab-manager v3.1.0 \u001b[32menabled\u001b[0m \u001b[32mOK\u001b[0m (python, jupyterlab_widgets)\n",
      "        @voila-dashboards/jupyterlab-preview v2.1.5 \u001b[32menabled\u001b[0m \u001b[32mOK\u001b[0m (python, voila)\n",
      "        @jupyterlab/git v0.37.1 \u001b[32menabled\u001b[0m \u001b[32mOK\u001b[0m (python, jupyterlab-git)\n",
      "        @elyra/pipeline-editor-extension v3.8.1 \u001b[32menabled\u001b[0m \u001b[32mOK\u001b[0m\n",
      "        @elyra/code-snippet-extension v3.8.1 \u001b[32menabled\u001b[0m \u001b[32mOK\u001b[0m\n",
      "        @elyra/metadata-extension v3.8.1 \u001b[32menabled\u001b[0m \u001b[32mOK\u001b[0m\n",
      "        @elyra/theme-extension v3.8.1 \u001b[32menabled\u001b[0m \u001b[32mOK\u001b[0m\n",
      "        @elyra/code-viewer-extension v3.8.1 \u001b[32menabled\u001b[0m \u001b[32mOK\u001b[0m\n",
      "        @elyra/python-editor-extension v3.8.1 \u001b[32menabled\u001b[0m \u001b[32mOK\u001b[0m\n",
      "        @elyra/r-editor-extension v3.8.1 \u001b[32menabled\u001b[0m \u001b[32mOK\u001b[0m\n",
      "        @jupyter-server/resource-usage v0.6.1 \u001b[32menabled\u001b[0m \u001b[32mOK\u001b[0m (python, jupyter-resource-usage)\n",
      "        @krassowski/jupyterlab-lsp v3.10.1 \u001b[32menabled\u001b[0m \u001b[32mOK\u001b[0m (python, jupyterlab-lsp)\n",
      "\n",
      "Other labextensions (built into JupyterLab)\n",
      "   app dir: /opt/conda/share/jupyter/lab\n",
      "\n",
      "\n",
      "Disabled extensions:\n",
      "    @jupyterlab/launcher-extension (all plugins)\n"
     ]
    }
   ],
   "source": [
    "!jupyter labextension list"
   ]
  },
  {
   "cell_type": "code",
   "execution_count": 1,
   "id": "c8fe31ac-e02e-4baa-86ca-66bde8928e37",
   "metadata": {},
   "outputs": [
    {
     "ename": "SyntaxError",
     "evalue": "invalid syntax (1798602719.py, line 1)",
     "output_type": "error",
     "traceback": [
      "\u001b[0;36m  Input \u001b[0;32mIn [1]\u001b[0;36m\u001b[0m\n\u001b[0;31m    md`\u001b[0m\n\u001b[0m      ^\u001b[0m\n\u001b[0;31mSyntaxError\u001b[0m\u001b[0;31m:\u001b[0m invalid syntax\n"
     ]
    }
   ],
   "source": [
    "md`\n",
    "# Testing Markdown\n",
    "`"
   ]
  },
  {
   "cell_type": "code",
   "execution_count": null,
   "id": "0539315b-ba1c-4b69-b312-47273ee206ea",
   "metadata": {},
   "outputs": [],
   "source": []
  }
 ],
 "metadata": {
  "kernelspec": {
   "display_name": "Python 3 (ipykernel)",
   "language": "python",
   "name": "python3"
  },
  "language_info": {
   "codemirror_mode": {
    "name": "ipython",
    "version": 3
   },
   "file_extension": ".py",
   "mimetype": "text/x-python",
   "name": "python",
   "nbconvert_exporter": "python",
   "pygments_lexer": "ipython3",
   "version": "3.9.12"
  }
 },
 "nbformat": 4,
 "nbformat_minor": 5
}
