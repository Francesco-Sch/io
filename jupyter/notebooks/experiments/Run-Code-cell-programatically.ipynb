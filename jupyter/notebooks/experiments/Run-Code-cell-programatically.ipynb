{
 "cells": [
  {
   "cell_type": "code",
   "execution_count": 4,
   "id": "8f7f4b63-4c03-44c6-969a-a114201c4e2a",
   "metadata": {},
   "outputs": [
    {
     "data": {
      "application/vnd.jupyter.widget-view+json": {
       "model_id": "bd1e17d2f96b4e9fbff9f358fefce827",
       "version_major": 2,
       "version_minor": 0
      },
      "text/plain": [
       "Output()"
      ]
     },
     "metadata": {},
     "output_type": "display_data"
    }
   ],
   "source": [
    "from ipylab import JupyterFrontEnd\n",
    "from ipywidgets import Output\n",
    "\n",
    "app = JupyterFrontEnd()\n",
    "out = Output()\n",
    "\n",
    "def init():\n",
    "    # show the first 5 commands\n",
    "    cmds = app.commands.list_commands()\n",
    "    out.append_stdout(cmds)\n",
    "\n",
    "app.on_ready(init)\n",
    "out"
   ]
  },
  {
   "cell_type": "code",
   "execution_count": 5,
   "id": "674a8d20-5186-4730-88c2-8570458816c8",
   "metadata": {},
   "outputs": [],
   "source": [
    "app.commands.execute('notebook:move-cursor-down')\n",
    "\n",
    "app.commands.execute('notebook:run-cell')"
   ]
  },
  {
   "cell_type": "code",
   "execution_count": 1,
   "id": "eaedb10b-89a7-43dd-9fab-8d3847ef0fa0",
   "metadata": {},
   "outputs": [
    {
     "name": "stdout",
     "output_type": "stream",
     "text": [
      "Ran from cell\n"
     ]
    }
   ],
   "source": [
    "print(\"Ran from cell\")"
   ]
  },
  {
   "cell_type": "code",
   "execution_count": 7,
   "id": "dac79252-364c-4277-b447-e8a738ed20c0",
   "metadata": {},
   "outputs": [
    {
     "name": "stdout",
     "output_type": "stream",
     "text": [
      "Another run\n"
     ]
    }
   ],
   "source": [
    "print(\"Another run\")"
   ]
  },
  {
   "cell_type": "code",
   "execution_count": null,
   "id": "6e73a349-0e27-4956-9dbd-a886259a27a5",
   "metadata": {},
   "outputs": [],
   "source": []
  }
 ],
 "metadata": {
  "kernelspec": {
   "display_name": "Python 3 (ipykernel)",
   "language": "python",
   "name": "python3"
  },
  "language_info": {
   "codemirror_mode": {
    "name": "ipython",
    "version": 3
   },
   "file_extension": ".py",
   "mimetype": "text/x-python",
   "name": "python",
   "nbconvert_exporter": "python",
   "pygments_lexer": "ipython3",
   "version": "3.9.12"
  }
 },
 "nbformat": 4,
 "nbformat_minor": 5
}
