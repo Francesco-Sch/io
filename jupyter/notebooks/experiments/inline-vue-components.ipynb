{
 "cells": [
  {
   "cell_type": "markdown",
   "id": "a9804305-d307-41c1-8077-60bf4ba9e137",
   "metadata": {},
   "source": [
    "# Render vue components inline"
   ]
  },
  {
   "cell_type": "code",
   "execution_count": 1,
   "id": "542a6cfd-0e1a-4eb5-9aa2-8cae0fca04a2",
   "metadata": {},
   "outputs": [],
   "source": [
    "import ipyvuetify as v\n",
    "from ipyvuetify.extra import FileInput\n",
    "import traitlets\n",
    "import ipywidgets as widgets"
   ]
  },
  {
   "cell_type": "code",
   "execution_count": 2,
   "id": "0e189f5d-c9a8-4fec-8f66-4cca1d642489",
   "metadata": {},
   "outputs": [],
   "source": [
    "# Declare variables\n",
    "files=[]"
   ]
  },
  {
   "cell_type": "code",
   "execution_count": 3,
   "id": "a0adcec6-9f63-41e0-8d24-a35f8b2ee888",
   "metadata": {},
   "outputs": [],
   "source": [
    "image_upload = FileInput()\n",
    "\n",
    "submit_button = v.Btn(children=['Upload Images'])\n",
    "\n",
    "out = widgets.Output()\n",
    "\n",
    "def upload_images(widget, event, data):\n",
    "    global files\n",
    "    files = image_upload.get_files()[0]\n",
    "    data = files['file_obj'].read()\n",
    "    \n",
    "    wid_builtin = widgets.Image(value=data)\n",
    "    wid_builtin\n",
    "    \n",
    "submit_button.on_event('click', upload_images)"
   ]
  },
  {
   "cell_type": "code",
   "execution_count": 4,
   "id": "5c751e3d-613a-4968-81b3-766a4c08ca4d",
   "metadata": {},
   "outputs": [
    {
     "data": {
      "application/vnd.jupyter.widget-view+json": {
       "model_id": "1f7972f0fff5486da08380bb3b271adc",
       "version_major": 2,
       "version_minor": 0
      },
      "text/plain": [
       "Container(children=[FileInput(events=['upload']), Btn(children=['Upload Images'])])"
      ]
     },
     "metadata": {},
     "output_type": "display_data"
    }
   ],
   "source": [
    "v.Container(children=[\n",
    "    image_upload,\n",
    "    submit_button,\n",
    "])"
   ]
  },
  {
   "cell_type": "code",
   "execution_count": 8,
   "id": "af7c31fe-781e-4c2e-ac6a-bc707035f7f7",
   "metadata": {},
   "outputs": [
    {
     "data": {
      "text/plain": [
       "{'name': 'bdfa4a103502393.5f4e8f9397a58.png',\n",
       " 'size': 244365,\n",
       " 'lastModified': 1609685321000,\n",
       " 'type': 'image/png',\n",
       " 'file_obj': <ipyvuetify.extra.file_input.ClientSideFile at 0x7f53b4163610>}"
      ]
     },
     "execution_count": 8,
     "metadata": {},
     "output_type": "execute_result"
    }
   ],
   "source": [
    "files"
   ]
  },
  {
   "cell_type": "code",
   "execution_count": 9,
   "id": "9942b015-257d-414c-bd7f-db9490a3c641",
   "metadata": {},
   "outputs": [],
   "source": [
    "image_gallery = v.Container(children=[\n",
    "    v.Btn(children=[\n",
    "        v.Html(\n",
    "            tag='img',\n",
    "            attributes={\n",
    "                'src': files[i]\n",
    "            },\n",
    "        )\n",
    "    ]) for i in files\n",
    "])"
   ]
  },
  {
   "cell_type": "code",
   "execution_count": null,
   "id": "faac5308-9729-42af-8489-8f4c22fb6ba6",
   "metadata": {},
   "outputs": [],
   "source": []
  }
 ],
 "metadata": {
  "kernelspec": {
   "display_name": "Python 3 (ipykernel)",
   "language": "python",
   "name": "python3"
  },
  "language_info": {
   "codemirror_mode": {
    "name": "ipython",
    "version": 3
   },
   "file_extension": ".py",
   "mimetype": "text/x-python",
   "name": "python",
   "nbconvert_exporter": "python",
   "pygments_lexer": "ipython3",
   "version": "3.9.12"
  }
 },
 "nbformat": 4,
 "nbformat_minor": 5
}
