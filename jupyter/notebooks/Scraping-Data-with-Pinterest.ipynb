{
 "cells": [
  {
   "cell_type": "markdown",
   "id": "443d4424-ef6b-4a3a-b532-d886421f1e97",
   "metadata": {},
   "source": [
    "# Scraping Data with Pinterest\n",
    "\n",
    "This notebook enables you, to create an image dataset from Pinterest.\n",
    "\n",
    "The creation and curation of datasets is an important part in the work with AI. Datasets enable AI models to learn certain things. Through the creation of a dataset, you can therefore determine what the AI model should learn.  \n",
    "With the creation and curation of an image dataset, you as a designer are able to train an AI model that matches your visual imagination. That is why the creation and curation of image datasets is so important and interesting.  \n",
    "In the end, you could use the created dataset from this notebook to train or fine tune an AI model. You can read more about this under \"7. How to continue\".\n",
    "\n",
    "Pinterest is a very powerful visual search engine, which let you search through millions of images. It also enables the user to create a collection of images, which are called 'Boards'.  \n",
    "Pinterest uses clever algorithms to find good visual results for a search term. That makes it perfect to create well curated image datasets.  \n",
    "You can find out more about Pinterest [here.](https://about.pinterest.com/)\n",
    "\n",
    "To collect the images from Pinterest, we are using a so called 'Crawler' or 'Scraper'. You can think of it, as a tiny little robot that collects data, in our case images, from a website for us. \n",
    "You just have to give him some instructions, which you are going to do in the progress of this notebook. ;)  \n",
    "You can read more about web scraper [here.](https://www.geeksforgeeks.org/what-is-web-scraping-and-how-to-use-it/)\n",
    "\n",
    "Let us continue with the next cell to get the scraping process started. Use, for that, the play button in the left, upper corner. "
   ]
  },
  {
   "cell_type": "markdown",
   "id": "95d4e56e-ab96-4ce1-9c98-d3710867617b",
   "metadata": {},
   "source": [
    "## 1. Set requirements\n",
    "\n",
    "First, you need to set some requirements and install some libraries.  \n",
    "Click the play button to execute the next cell.\n",
    "\n",
    "Be aware that it could take some time to set all requirements."
   ]
  },
  {
   "cell_type": "code",
   "execution_count": 1,
   "id": "9a4201a7-1695-49f6-a55e-5909c7c49274",
   "metadata": {
    "tags": []
   },
   "outputs": [
    {
     "data": {
      "application/vnd.jupyter.widget-view+json": {
       "model_id": "049b3c2d6950402bb69d638e9463bfde",
       "version_major": 2,
       "version_minor": 0
      },
      "text/plain": [
       "Setup(SetupProcessing=False)"
      ]
     },
     "metadata": {},
     "output_type": "display_data"
    }
   ],
   "source": [
    "# -----------\n",
    "# IMPORTS\n",
    "# -----------\n",
    "import os\n",
    "from IPython.display import display, clear_output\n",
    "import ipywidgets as widgets\n",
    "import io_widget\n",
    "\n",
    "# -----------\n",
    "# SETUP WIDGET\n",
    "# -----------\n",
    "Setup = io_widget.Setup()\n",
    "display(Setup)\n",
    "\n",
    "# -----------\n",
    "# VARIABLES\n",
    "# -----------\n",
    "HiddenOutput = widgets.Output()\n",
    "\n",
    "# -----------\n",
    "# UTILITIES\n",
    "# -----------\n",
    "with HiddenOutput:\n",
    "    if os.path.isdir('/home/jovyan/utilities/pinterest-crawler/') is False:\n",
    "        !git clone https://github.com/Francesco-Sch/Pinterest-crawler-for-jupyter-lab /home/jovyan/utilities/pinterest-crawler\n",
    "\n",
    "    if os.path.isdir('/home/jovyan/utilities/pinterest-crawler/') is True:\n",
    "        !pip install -r /home/jovyan/utilities/pinterest-crawler/requirements.txt\n",
    "\n",
    "# Re-render widget after all processes are done\n",
    "Setup.SetupProcessing = False\n",
    "clear_output()\n",
    "display(Setup)"
   ]
  },
  {
   "cell_type": "markdown",
   "id": "5e467556-49d1-48c6-9e1f-6dbcdf2d3f96",
   "metadata": {
    "tags": []
   },
   "source": [
    "## 2. Enter your Pinterest login credentials\n",
    "\n",
    "The Pinterest scraper needs access to Pinterest. For that reason, you have to add your user credentials so that the scraper can log in to Pinterest.\n",
    "Do not worry, the user credentials will only be saved temporarily on this server.\n",
    "\n",
    "Little hint: You could also create a new Pinterest account just for data collection purposes. ;)\n",
    "\n",
    "CAUTION: Works only if 2FA is deactivated."
   ]
  },
  {
   "cell_type": "code",
   "execution_count": 2,
   "id": "4e790ee6-ffa9-46cb-9e19-b54bbf2052d2",
   "metadata": {
    "tags": []
   },
   "outputs": [
    {
     "data": {
      "application/vnd.jupyter.widget-view+json": {
       "model_id": "d0d68382975e4d1194f5eb3578194392",
       "version_major": 2,
       "version_minor": 0
      },
      "text/plain": [
       "CrawlerLogin()"
      ]
     },
     "metadata": {},
     "output_type": "display_data"
    }
   ],
   "source": [
    "CrawlerLogin = io_widget.CrawlerLogin()\n",
    "CrawlerLogin"
   ]
  },
  {
   "cell_type": "markdown",
   "id": "fc43ebce-e710-400f-bcf2-147f88ec15dd",
   "metadata": {},
   "source": [
    "## 3. Add Pinterest Links\n",
    "\n",
    "With the following widgets, you are able to set all the settings for the scraping process.  \n",
    "First, you have to add at least one Pinterest link. You can also add more if you want to scrape different links, to create a bigger image dataset. You can add any Pinterest link you want. The link could be the results of a search you made or a board you collected. \n",
    "Here are two example links, you could use: \n",
    "\n",
    "Link for the search term 'Typography':\n",
    "> https://www.pinterest.de/search/pins/?q=typography&rs=typed&term_meta[]=typography%7Ctyped\n",
    "\n",
    "Link to a Pinterest Board about Editorial Design:\n",
    "> https://www.pinterest.de/loxdelux/cover-editorial-design/\n",
    "\n",
    "After adding your Pinterest links, you can set an output folder for the dataset. You will find the folder in the `datasets` folder. Try to choose a name that represents the scraped dataset in some way.  \n",
    "You can also set the maximum amount of images you want to scrape.\n",
    "\n",
    "```\n",
    "CAUTION: Right now it is only possible to scrape one link at a time. Batch crawling of multiple links is still under development.\n",
    "```"
   ]
  },
  {
   "cell_type": "code",
   "execution_count": 3,
   "id": "080e1931-294d-4a64-9b10-6a9f70947f51",
   "metadata": {
    "tags": []
   },
   "outputs": [
    {
     "data": {
      "application/vnd.jupyter.widget-view+json": {
       "model_id": "faf5fcbc1ea04c009a3833991d7f4bbd",
       "version_major": 2,
       "version_minor": 0
      },
      "text/plain": [
       "CrawlerLinks()"
      ]
     },
     "metadata": {},
     "output_type": "display_data"
    }
   ],
   "source": [
    "CrawlerLinks = io_widget.CrawlerLinks()\n",
    "CrawlerLinks"
   ]
  },
  {
   "cell_type": "markdown",
   "id": "d9768f5e-a6cb-418d-950d-e670180e6b6d",
   "metadata": {
    "tags": []
   },
   "source": [
    "## 4. Validate your settings\n",
    "\n",
    "Run the next cell to check if all your settings and inputs are correct.\n",
    "If everything is correct, you can continue with the next cell. If something is wrong, you will get an error message which tells you what is missing and how to fix it."
   ]
  },
  {
   "cell_type": "code",
   "execution_count": 4,
   "id": "e9fb7c39-e3c2-4da2-bb12-2654d3ca1735",
   "metadata": {
    "tags": []
   },
   "outputs": [
    {
     "data": {
      "application/vnd.jupyter.widget-view+json": {
       "model_id": "7889daea6f5248878023fdc73b00e415",
       "version_major": 2,
       "version_minor": 0
      },
      "text/plain": [
       "Validation(ValidationMessage='Everthing seems good. Continue with the next cell.', ValidationStatus='success')"
      ]
     },
     "metadata": {},
     "output_type": "display_data"
    }
   ],
   "source": [
    "Validation = io_widget.Validation()\n",
    "\n",
    "try:\n",
    "    CrawlerLogin.CrawlerLoginUserName\n",
    "except NameError:\n",
    "    Validation.ValidationStatus = \"error\"\n",
    "    Validation.ValidationMessage = \"The Username for Pinterest is not set. Execute the cell under '2. Enter your Pinterest login credentials' again.\"\n",
    "\n",
    "    display(Validation)\n",
    "    raise\n",
    "\n",
    "try:\n",
    "    CrawlerLogin.CrawlerLoginPassword\n",
    "except NameError:\n",
    "    Validation.ValidationStatus = \"error\"\n",
    "    Validation.ValidationMessage = \"The Password for Pinterest is not set. Execute the cell under '2. Enter your Pinterest login credentials' again.\"\n",
    "\n",
    "    display(Validation)\n",
    "    raise\n",
    "\n",
    "try:\n",
    "    CrawlerLinks.CrawlerLinks\n",
    "except NameError:\n",
    "    Validation.ValidationStatus = \"error\"\n",
    "    Validation.ValidationMessage = \"There are no links set, which can be scraped. Execute the cell under '3. Add Pinterest Links' again.\"\n",
    "\n",
    "    display(Validation)\n",
    "    raise\n",
    "\n",
    "try:\n",
    "    CrawlerLinks.CrawlerImagesAmount\n",
    "except NameError:\n",
    "    Validation.ValidationStatus = \"error\"\n",
    "    Validation.ValidationMessage = \"There is no amount of images set. Execute the cell under '3. Add Pinterest Links' again.\"\n",
    "\n",
    "    display(Validation)\n",
    "    raise\n",
    "\n",
    "try:\n",
    "    CrawlerLinks.CrawlerOutputFolder\n",
    "except NameError:\n",
    "    Validation.ValidationStatus = \"error\"\n",
    "    Validation.ValidationMessage = \"There is no output folder for the dataset defined. Execute the cell under '3. Add Pinterest Links' again.\"\n",
    "\n",
    "    display(Validation)\n",
    "    raise\n",
    "\n",
    "Validation.ValidationStatus = \"success\"\n",
    "Validation.ValidationMessage = \"Everthing seems good. Continue with the next cell.\"\n",
    "\n",
    "display(Validation)"
   ]
  },
  {
   "cell_type": "markdown",
   "id": "7df853bd-3288-4080-940b-b9fe0cbbdcf3",
   "metadata": {},
   "source": [
    "## 5. Start scraping\n",
    "\n",
    "Now that all settings are set, you are ready to start the scraping process! :D \n",
    "\n",
    "Execute the next cell and press the button \"Start scraping\".  \n",
    "You will see a success message as soon as the scraper is done."
   ]
  },
  {
   "cell_type": "code",
   "execution_count": 5,
   "id": "21fdf263-2674-4475-a49b-c3d4c57b5962",
   "metadata": {
    "tags": []
   },
   "outputs": [
    {
     "data": {
      "application/vnd.jupyter.widget-view+json": {
       "model_id": "7b8ded6ab85242e7ac29a84d6e7ee660",
       "version_major": 2,
       "version_minor": 0
      },
      "text/plain": [
       "Output()"
      ]
     },
     "metadata": {},
     "output_type": "display_data"
    }
   ],
   "source": [
    "CrawlerInit = io_widget.CrawlerInit()\n",
    "ScraperOutput = widgets.Output()\n",
    "\n",
    "with ScraperOutput:\n",
    "    display(CrawlerInit)\n",
    "\n",
    "# Create directory, if it is not existing\n",
    "if os.path.isdir('/home/jovyan/datasets/') is False:\n",
    "    os.mkdir('/home/jovyan/datasets/')\n",
    "\n",
    "if os.path.isdir('/home/jovyan/datasets/' + CrawlerLinks.CrawlerOutputFolder) is False:\n",
    "    os.mkdir('/home/jovyan/datasets/' + CrawlerLinks.CrawlerOutputFolder)\n",
    "\n",
    "\n",
    "def scraping(change):\n",
    "    if(change.new is True):\n",
    "        with ScraperOutput:\n",
    "            # Re-render widget to show process running\n",
    "            CrawlerInit.CrawlerInitRunning = True\n",
    "            clear_output()\n",
    "            display(CrawlerInit)\n",
    "        with HiddenOutput:\n",
    "            !python ../utilities/pinterest-crawler/main.py -e '{CrawlerLogin.CrawlerLoginUserName}' -p '{CrawlerLogin.CrawlerLoginPassword}' -d '../datasets/{CrawlerLinks.CrawlerOutputFolder}' -l '{CrawlerLinks.CrawlerLinks[0]}' -g '250' -s '1024' -a '{CrawlerLinks.CrawlerImagesAmount}'\n",
    "\n",
    "        with ScraperOutput:\n",
    "            CrawlerInit.CrawlerInitRunning = False\n",
    "            CrawlerInit.CrawlerInitFinished = True\n",
    "            clear_output()\n",
    "            display(CrawlerInit)\n",
    "\n",
    "\n",
    "CrawlerInit.observe(scraping, names='CrawlerInitClick')\n",
    "\n",
    "display(ScraperOutput)"
   ]
  },
  {
   "cell_type": "markdown",
   "id": "9171a1ba-f6c8-45c4-b183-79f5b9873eb8",
   "metadata": {
    "tags": []
   },
   "source": [
    "## 6. Explore the collected dataset\n",
    "\n",
    "With the following widget, you get an overview over the image dataset you just scraped.\n",
    "\n",
    "Through clicking the plus and minus button in the top, right corner of the widget, you can zoom in and out the dataset.  \n",
    "That way you can have a very close and detailed look at the dataset or get a general overview over it."
   ]
  },
  {
   "cell_type": "code",
   "execution_count": 7,
   "id": "4ced301a-b858-497f-b370-e673313c3b55",
   "metadata": {
    "tags": []
   },
   "outputs": [
    {
     "data": {
      "application/vnd.jupyter.widget-view+json": {
       "model_id": "60a72d23727c4abb82f6e944c87e0cd2",
       "version_major": 2,
       "version_minor": 0
      },
      "text/plain": [
       "CrawlerGallery(CrawlerGalleryFolder='datasets/pinterest-editorial')"
      ]
     },
     "metadata": {},
     "output_type": "display_data"
    }
   ],
   "source": [
    "CrawlerGallery = io_widget.CrawlerGallery()\n",
    "\n",
    "CrawlerGallery.CrawlerGalleryFolder = f'datasets/{CrawlerLinks.CrawlerOutputFolder}'\n",
    "CrawlerGallery"
   ]
  },
  {
   "cell_type": "markdown",
   "id": "c8e5d632-5c70-431c-b73f-3b6e141c5aed",
   "metadata": {},
   "source": [
    "# 7.  How to continue\n",
    "\n",
    "Well done, you created a dataset via Pinterest! :)  \n",
    "You could use it directly to fine tune StyleGAN3 on your dataset, to create your first own AI model.  \n",
    "You can find out more under this notebook:\n",
    "\n",
    "- [Fine tune StyleGAN3](#)\n",
    "\n",
    "Or, if you want to get directly creative with AI, you could use VQGAN-CLIP to create new images through text prompts.  \n",
    "You can find out more under this notebook:\n",
    "\n",
    "- [Use CLIP-guided VQGAN to generate images](http://localhost:8888/lab/workspaces/VQGAN/tree/notebooks/Use-CLIP-guided-VQGAN-to-generate-images.ipynb)\n",
    "\n",
    "If you want to use this notebook again, click on the reload button in the left, top corner of this editor window. After you have pressed the reload button, you can start at the top of this document and execute it cell by cell."
   ]
  }
 ],
 "metadata": {
  "kernelspec": {
   "display_name": "Python 3 (ipykernel)",
   "language": "python",
   "name": "python3"
  },
  "language_info": {
   "codemirror_mode": {
    "name": "ipython",
    "version": 3
   },
   "file_extension": ".py",
   "mimetype": "text/x-python",
   "name": "python",
   "nbconvert_exporter": "python",
   "pygments_lexer": "ipython3",
   "version": "3.10.5"
  }
 },
 "nbformat": 4,
 "nbformat_minor": 5
}
