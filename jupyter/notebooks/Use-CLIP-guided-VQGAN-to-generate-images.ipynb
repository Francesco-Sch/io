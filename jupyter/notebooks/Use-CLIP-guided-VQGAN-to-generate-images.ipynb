{
 "cells": [
  {
   "cell_type": "markdown",
   "id": "454b8692-e387-4e46-9475-950a1d783b87",
   "metadata": {},
   "source": [
    "# Use CLIP-guided VQGAN to generate images\n",
    "\n",
    "This notebook enables you to generated images from text.\n",
    "\n",
    "Using AI as a design tool will become more and more relevant in the future. An easy way to use AI as a tool is via so called 'Text-to-Image models'. They enable you to generate images from a text prompt you formulated.\n",
    "\n",
    "In this notebook, you are going to use a combination of two models to generate images from a text prompt.\n",
    "One model is called CLIP, the other one VQGAN. VQGAN is able to generate images, CLIP describe images with text. In our case, the task of CLIP is to understand the text we give it. CLIP gives then VQGAN instructions what images it should generate and guides it through its creation process to a good result.\n",
    "\n",
    "Do not worry, it is far easier to use the AI models than you probably think. Let us continue with the next cell to get the process started. Use, for that, the play button in the left, upper corner. "
   ]
  },
  {
   "cell_type": "markdown",
   "id": "65b36329-b397-41f4-bb47-7be017e1abb2",
   "metadata": {},
   "source": [
    "## 1. Set requirements\n",
    "\n",
    "First, you need to set some requirements and install some libraries.  \n",
    "Click the play button to execute the next cell.\n",
    "\n",
    "Be aware that it could take some time to set all requirements."
   ]
  },
  {
   "cell_type": "code",
   "execution_count": 1,
   "id": "44ab27b1-35df-4830-8769-27d166ecb27c",
   "metadata": {
    "jupyter": {
     "source_hidden": true
    },
    "tags": []
   },
   "outputs": [
    {
     "data": {
      "application/vnd.jupyter.widget-view+json": {
       "model_id": "73de607a94ee4996bd138b12c72a9c5f",
       "version_major": 2,
       "version_minor": 0
      },
      "text/plain": [
       "Setup(SetupProcessing=False)"
      ]
     },
     "metadata": {},
     "output_type": "display_data"
    }
   ],
   "source": [
    "# ------------------\n",
    "# IMPORTS\n",
    "# ------------------\n",
    "import os\n",
    "from IPython.display import display, clear_output\n",
    "import ipywidgets as widgets\n",
    "import io_widget\n",
    "\n",
    "# -----------\n",
    "# SETUP WIDGET\n",
    "# -----------\n",
    "Setup = io_widget.Setup()\n",
    "display(Setup)\n",
    "\n",
    "# -----------\n",
    "# VARIABLES\n",
    "# -----------\n",
    "HiddenOutput = widgets.Output()\n",
    "\n",
    "# ------------------\n",
    "# CREATE DIRECTORY\n",
    "# ------------------\n",
    "with HiddenOutput:\n",
    "    if os.path.isdir('/home/jovyan/utilities/VQGAN-CLIP/') is False:\n",
    "        if os.path.isdir('/home/jovyan/utilities/') is False:\n",
    "            os.mkdir('/home/jovyan/utilities/')\n",
    "\n",
    "        os.mkdir('/home/jovyan/utilities/VQGAN-CLIP')\n",
    "\n",
    "# ------------------\n",
    "# CLONE REPOSITORY\n",
    "# ------------------\n",
    "with HiddenOutput:\n",
    "    !git clone 'https://github.com/Francesco-Sch/VQGAN-CLIP' /home/jovyan/utilities/VQGAN-CLIP\n",
    "    %cd /home/jovyan/utilities/VQGAN-CLIP\n",
    "    !git clone 'https://github.com/openai/CLIP'\n",
    "    !git clone 'https://github.com/CompVis/taming-transformers'\n",
    "\n",
    "# ------------------\n",
    "# INSTALL PACKAGES\n",
    "# ------------------\n",
    "with HiddenOutput:\n",
    "    !pip3 install torch torchvision torchaudio --extra-index-url https://download.pytorch.org/whl/cu113\n",
    "    !pip install ftfy regex tqdm omegaconf pytorch-lightning IPython kornia imageio imageio-ffmpeg einops torch_optimizer\n",
    "\n",
    "# ------------------\n",
    "# INSTALL PRE-TRAINED MODELS\n",
    "# ------------------\n",
    "with HiddenOutput:\n",
    "    !mkdir checkpoints\n",
    "\n",
    "    !curl -L -o checkpoints/vqgan_imagenet_f16_16384.yaml -C - 'https://heibox.uni-heidelberg.de/d/a7530b09fed84f80a887/files/?p=%2Fconfigs%2Fmodel.yaml&dl=1' #ImageNet 16384\n",
    "    !curl -L -o checkpoints/vqgan_imagenet_f16_16384.ckpt -C - 'https://heibox.uni-heidelberg.de/d/a7530b09fed84f80a887/files/?p=%2Fckpts%2Flast.ckpt&dl=1' #ImageNet 16384\n",
    "\n",
    "# Re-render widget after all processes are done\n",
    "Setup.SetupProcessing = False\n",
    "clear_output()\n",
    "display(Setup)"
   ]
  },
  {
   "cell_type": "markdown",
   "id": "e19fd9e5-b7ab-4d95-9a5d-c0fd3de5443c",
   "metadata": {},
   "source": [
    "## 2. Enter text prompt\n",
    "\n",
    "In the next section, you can define a text prompt. The AI models will then try to generate an image that is as close to the text prompt as possible. Try to give creative and very precise text prompts in order to achieve interesting results. Some example text prompts could be something like: \n",
    "\n",
    "```\n",
    "A raccoon wearing formal clothes, wearing a tophap and holding a cane. The raccoon is holding a garbage bag. Oil painting in the style of Rembrandt.\n",
    "```\n",
    "\n",
    "\n",
    "```\n",
    "A cyperpunk moth in front of a city skyline with the moon rising above.\n",
    "```\n",
    "&nbsp;  \n",
    "\n",
    "Apart from the text prompt, you can also set attributes or adjectives to create an impact on the creation process. For example, if you want to create a more surrealistic look you can define `surreal` as an attribute. The AI models will then try to generate a more surrealistic look. Some interesting attributes to play with are: \n",
    "- surreal\n",
    "- weird\n",
    "- abstract\n",
    "- high-resolution\n",
    "- detailed\n",
    "- naturalistic\n",
    "&nbsp; \n",
    "\n",
    "In addition to defining attributes, you can also set weights for the attributes. These weights are set in percent. For example, you could give the `surreal` attribute a weight of 50% percent. This attribute has then only an impact of 50% percent on the generation process.\n",
    "\n",
    "It is not necessary to set attributes and weights. But they are a handy tool to have more impact on the creation process of the AI.\n",
    "\n",
    "Through experimenting with different prompts, attributes and weights you can generate a wide variety of different looking results.  \n",
    "Execute the next cell to set a text prompt and add some attributes.\n",
    "\n"
   ]
  },
  {
   "cell_type": "code",
   "execution_count": 2,
   "id": "d2cf80c3-2f0d-4d20-a106-2e0af98c06ad",
   "metadata": {
    "tags": []
   },
   "outputs": [
    {
     "data": {
      "application/vnd.jupyter.widget-view+json": {
       "model_id": "db7f0d111e3f4a179afa3c7b93a58c08",
       "version_major": 2,
       "version_minor": 0
      },
      "text/plain": [
       "TextToImagePrompt()"
      ]
     },
     "metadata": {},
     "output_type": "display_data"
    }
   ],
   "source": [
    "TextToImagePrompt = io_widget.TextToImagePrompt()\n",
    "TextToImagePrompt"
   ]
  },
  {
   "cell_type": "markdown",
   "id": "2f039aab-9b6d-4855-adc2-815d252e2464",
   "metadata": {},
   "source": [
    "## 3. Optionally set inital image\n",
    "\n",
    "CAUTION: This is optional and not required to get the model running. If you do not want to use an inital image just leave it empty.\n",
    "\n",
    "```\n",
    "The inital image widget is still under development and not available yet.\n",
    "```"
   ]
  },
  {
   "cell_type": "markdown",
   "id": "9dc74b9b-ce80-4e5c-b431-ba210f35c41f",
   "metadata": {},
   "source": [
    "## 4. Set generation options\n",
    "\n",
    "With the following widget, you can set some general options to get the creation process started.\n",
    "\n",
    "First, you have to give the output folder a name. You will find your generated results under this folder.  \n",
    "You can then find the defined folder in the output folder. You can find the folder in the file explorer. To open the file explorer, click on the file icon in the left right corner.\n",
    "\n",
    "Second, you can set the width and height of the generated image. VQGAN and CLIP are pretty good at generating square-sized images, so I would recommend keeping the square aspect ratio.  \n",
    "Keep also in mind, that a very high resolution results in a long creation process. A resolution of maximum 1024 x 1024 is normally sufficient. If the creation process takes too long, try to go down with the resolution.\n",
    "\n",
    "Third, you can set the iterations the AI models should do over one text prompt. This is also a value worth experimenting with. Because here, it does not necessarily mean that a higher value brings more. From my experience, a value between 300 and 600 works best. But feel free to experiment on your own with this value."
   ]
  },
  {
   "cell_type": "code",
   "execution_count": 3,
   "id": "1bdb0f2a-e0a2-4097-aa72-d9f21a84a269",
   "metadata": {
    "tags": []
   },
   "outputs": [
    {
     "data": {
      "application/vnd.jupyter.widget-view+json": {
       "model_id": "29131a910281452d93b852632010d474",
       "version_major": 2,
       "version_minor": 0
      },
      "text/plain": [
       "TextToImageOptions()"
      ]
     },
     "metadata": {},
     "output_type": "display_data"
    }
   ],
   "source": [
    "TextToImageOptions = io_widget.TextToImageOptions()\n",
    "TextToImageOptions"
   ]
  },
  {
   "cell_type": "markdown",
   "id": "3c3c71e8-41bd-4798-b624-99e8c8e12ea0",
   "metadata": {},
   "source": [
    "## 5. Validate your settings\n",
    "\n",
    "With the execution of the next cell, you can check if all your settings and inputs are correct.\n",
    "If everything is correct, you can continue with the next cell. If something is wrong, you will get an error message which tells you what is missing and how to fix it."
   ]
  },
  {
   "cell_type": "code",
   "execution_count": 4,
   "id": "2900ed7b-1979-4d22-8c12-a8027f3f886e",
   "metadata": {
    "jupyter": {
     "source_hidden": true
    },
    "tags": []
   },
   "outputs": [
    {
     "data": {
      "application/vnd.jupyter.widget-view+json": {
       "model_id": "ce2d302cb7654a1b9bd0d55f0f109852",
       "version_major": 2,
       "version_minor": 0
      },
      "text/plain": [
       "Validation(ValidationMessage='Everthing seems good. Continue with the next cell.', ValidationStatus='success')"
      ]
     },
     "metadata": {},
     "output_type": "display_data"
    }
   ],
   "source": [
    "Validation = io_widget.Validation()\n",
    "\n",
    "try:\n",
    "    TextToImagePrompt.TextToImagePrompt\n",
    "except NameError:\n",
    "    Validation.ValidationStatus = \"error\"\n",
    "    Validation.ValidationMessage = \"There is no text prompt set. Execute the cell under '2. Enter text prompt' again.\"\n",
    "\n",
    "    display(Validation)\n",
    "    raise\n",
    "\n",
    "try:\n",
    "    TextToImageOptions.TextToImageOptionFolder\n",
    "except NameError:\n",
    "    Validation.ValidationStatus = \"error\"\n",
    "    Validation.ValidationMessage = \"There is no output folder defined. Execute the cell under '4. Set generation options' again.\" \n",
    "\n",
    "    display(Validation)\n",
    "    raise\n",
    "\n",
    "try:\n",
    "    TextToImageOptions.TextToImageOptionWidth\n",
    "except NameError:\n",
    "    Validation.ValidationStatus = \"error\"\n",
    "    Validation.ValidationMessage = \"Width for the generated image is not defined. Execute the cell under '4. Set generation options' again.\"\n",
    "\n",
    "    display(Validation)\n",
    "    raise\n",
    "\n",
    "try:\n",
    "    TextToImageOptions.TextToImageOptionHeight\n",
    "except NameError:\n",
    "    Validation.ValidationStatus = \"error\"\n",
    "    Validation.ValidationMessage = \"Height for the generated image is not defined. Execute the cell under '4. Set generation options' again.\"\n",
    "\n",
    "    display(Validation)\n",
    "    raise\n",
    "\n",
    "try:\n",
    "    TextToImageOptions.TextToImageOptionIterations\n",
    "except NameError:\n",
    "    Validation.ValidationStatus = \"error\"\n",
    "    Validation.ValidationMessage = \"Iterations for the generation process are not set. Execute the cell under '4. Set generation options' again.\"\n",
    "\n",
    "    display(Validation)\n",
    "    raise\n",
    "\n",
    "Validation.ValidationStatus = \"success\"\n",
    "Validation.ValidationMessage = \"Everthing seems good. Continue with the next cell.\"\n",
    "\n",
    "display(Validation)"
   ]
  },
  {
   "cell_type": "markdown",
   "id": "c815fe57-d073-48c0-b1cd-80cac247d497",
   "metadata": {},
   "source": [
    "## 6. Start the generation process\n",
    "\n",
    "Now that all settings are set, you are ready to start the creation process! :D \n",
    "\n",
    "Execute the next cell and press the button \"Start the generation process\".  \n",
    "You will then see how slowly an image gets generated from pure noise."
   ]
  },
  {
   "cell_type": "code",
   "execution_count": 5,
   "id": "75dcf49d-98cb-4e87-ae4a-c54202f5f80a",
   "metadata": {
    "jupyter": {
     "source_hidden": true
    },
    "tags": []
   },
   "outputs": [
    {
     "data": {
      "application/vnd.jupyter.widget-view+json": {
       "model_id": "963ee36e308c418b97dba6ec55827ddd",
       "version_major": 2,
       "version_minor": 0
      },
      "text/plain": [
       "Output()"
      ]
     },
     "metadata": {},
     "output_type": "display_data"
    }
   ],
   "source": [
    "TextToImageInit = io_widget.TextToImageInit()\n",
    "TextToImageInitOutput = widgets.Output()\n",
    "\n",
    "TextToImageInit.TextToImageInitClick = False\n",
    "TextToImageInit.TextToImageInitFinished = False\n",
    "\n",
    "with TextToImageInitOutput:\n",
    "    display(TextToImageInit)\n",
    "\n",
    "# Create directory, if it is not existing\n",
    "if os.path.isdir('/home/jovyan/output/') is False:\n",
    "    os.mkdir('/home/jovyan/output/')\n",
    "\n",
    "if os.path.isdir(f'/home/jovyan/output/{TextToImageOptions.TextToImageOptionFolder}/') is False:\n",
    "    os.mkdir(f'/home/jovyan/output/{TextToImageOptions.TextToImageOptionFolder}/')\n",
    "\n",
    "# Output folder to read from\n",
    "TextToImageInit.TextToImageInitFolder = TextToImageOptions.TextToImageOptionFolder\n",
    "\n",
    "# Compute attributes\n",
    "computedAttributes = ''\n",
    "\n",
    "for attribute in TextToImagePrompt.TextToImageAttributes:\n",
    "    computedAttributes += ' |' + ' ' + attribute['attribute'] + ':' + str(attribute['weight'])\n",
    "\n",
    "\n",
    "def generate(change):\n",
    "    if(change.new is True):\n",
    "        with TextToImageInitOutput:\n",
    "            # Re-render widget to show process running\n",
    "            clear_output()\n",
    "            display(TextToImageInit)\n",
    "        with HiddenOutput:\n",
    "            !python generate.py -p '{TextToImagePrompt.TextToImagePrompt} {computedAttributes}' -i '{TextToImageOptions.TextToImageOptionIterations}' -o '/home/jovyan/output/{TextToImageOptions.TextToImageOptionFolder}/image' -s '{TextToImageOptions.TextToImageOptionWidth}' '{TextToImageOptions.TextToImageOptionHeight}' -cuts '5'\n",
    "\n",
    "        with TextToImageInitOutput:\n",
    "            # Re-render widget to show finished process\n",
    "            TextToImageInit.TextToImageInitFinished = True\n",
    "            clear_output()\n",
    "            display(TextToImageInit)\n",
    "\n",
    "\n",
    "TextToImageInit.observe(generate, names='TextToImageInitClick')\n",
    "\n",
    "display(TextToImageInitOutput)"
   ]
  },
  {
   "cell_type": "markdown",
   "id": "e4291eaa-7671-4725-aee6-d1754a729271",
   "metadata": {},
   "source": [
    "## 7. Output\n",
    "\n",
    "After the creation process is complete, you can execute the next cell to see the final results. On the bottom you find a button to download the generated image."
   ]
  },
  {
   "cell_type": "code",
   "execution_count": null,
   "id": "38e69325-b30a-4aa2-849f-ec28b487c4e0",
   "metadata": {
    "tags": []
   },
   "outputs": [],
   "source": [
    "TextToImageShow = io_widget.TextToImageShow()\n",
    "TextToImageShow\n",
    "\n",
    "TextToImageShow.TextToImageShowFolder = TextToImageOptions.TextToImageOptionFolder\n",
    "\n",
    "display(TextToImageShow)"
   ]
  },
  {
   "cell_type": "markdown",
   "id": "741b67d3-a382-48e9-b3f8-70d6812500e2",
   "metadata": {},
   "source": [
    "## 8. How to continue\n",
    "\n",
    "Well done, you created an image via a text prompt! :)  \n",
    "\n",
    "Another interesting use case for designers is the curation and creation of datasets.\n",
    "You can find out more under this notebook:\n",
    "\n",
    "- [Scarping data with Pinterest](http://localhost:8888/lab/workspaces/pinterest/tree/notebooks/Scraping-Data-with-Pinterest.ipynb)\n",
    "\n",
    "After you created a dataset, you could use it directly to fine tune StyleGAN3, to create your first own AI model.  \n",
    "You can find out more under this notebook:\n",
    "\n",
    "- [Fine tune StyleGAN3](#)\n",
    "\n",
    "If you want to use this notebook again, click on the reload button in the left, top corner of this editor window. After you have pressed the reload button, you can start at the top of this document and execute it cell by cell."
   ]
  }
 ],
 "metadata": {
  "kernelspec": {
   "display_name": "Python 3 (ipykernel)",
   "language": "python",
   "name": "python3"
  },
  "language_info": {
   "codemirror_mode": {
    "name": "ipython",
    "version": 3
   },
   "file_extension": ".py",
   "mimetype": "text/x-python",
   "name": "python",
   "nbconvert_exporter": "python",
   "pygments_lexer": "ipython3",
   "version": "3.10.5"
  }
 },
 "nbformat": 4,
 "nbformat_minor": 5
}
