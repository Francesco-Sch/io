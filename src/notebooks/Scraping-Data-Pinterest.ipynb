{
 "cells": [
  {
   "cell_type": "markdown",
   "id": "026203e8-b972-414f-ae04-a80099cf289e",
   "metadata": {},
   "source": [
    "# Scraping data with Pinterest"
   ]
  },
  {
   "cell_type": "code",
   "execution_count": 7,
   "id": "b37b0007-3680-4fe2-92dd-fae4ebc6312b",
   "metadata": {},
   "outputs": [
    {
     "name": "stdout",
     "output_type": "stream",
     "text": [
      "Cloning into 'crawler'...\n",
      "remote: Enumerating objects: 92, done.\u001b[K\n",
      "remote: Counting objects: 100% (92/92), done.\u001b[K\n",
      "remote: Compressing objects: 100% (65/65), done.\u001b[K\n",
      "remote: Total 92 (delta 52), reused 60 (delta 24), pack-reused 0\u001b[K\n",
      "Unpacking objects: 100% (92/92), 2.93 MiB | 4.46 MiB/s, done.\n"
     ]
    }
   ],
   "source": [
    "!git clone https://github.com/Francesco-Sch/Pinterest-crawler-for-jupyter-lab crawler"
   ]
  },
  {
   "cell_type": "code",
   "execution_count": 8,
   "id": "9e40dbe8-125f-4cf0-81ed-6dbb2e0e410f",
   "metadata": {},
   "outputs": [
    {
     "name": "stdout",
     "output_type": "stream",
     "text": [
      "Requirement already satisfied: beautifulsoup4==4.9.3 in /opt/conda/lib/python3.9/site-packages (from -r ./crawler/requirements.txt (line 1)) (4.9.3)\n",
      "Requirement already satisfied: bs4==0.0.1 in /opt/conda/lib/python3.9/site-packages (from -r ./crawler/requirements.txt (line 2)) (0.0.1)\n",
      "Requirement already satisfied: certifi==2021.5.30 in /opt/conda/lib/python3.9/site-packages (from -r ./crawler/requirements.txt (line 3)) (2021.5.30)\n",
      "Requirement already satisfied: charset-normalizer==2.0.4 in /opt/conda/lib/python3.9/site-packages (from -r ./crawler/requirements.txt (line 4)) (2.0.4)\n",
      "Requirement already satisfied: idna==3.2 in /opt/conda/lib/python3.9/site-packages (from -r ./crawler/requirements.txt (line 5)) (3.2)\n",
      "Requirement already satisfied: PyYAML==5.4.1 in /opt/conda/lib/python3.9/site-packages (from -r ./crawler/requirements.txt (line 6)) (5.4.1)\n",
      "Requirement already satisfied: requests==2.26.0 in /opt/conda/lib/python3.9/site-packages (from -r ./crawler/requirements.txt (line 7)) (2.26.0)\n",
      "Requirement already satisfied: selenium==3.141.0 in /opt/conda/lib/python3.9/site-packages (from -r ./crawler/requirements.txt (line 8)) (3.141.0)\n",
      "Requirement already satisfied: soupsieve==2.2.1 in /opt/conda/lib/python3.9/site-packages (from -r ./crawler/requirements.txt (line 9)) (2.2.1)\n",
      "Requirement already satisfied: urllib3==1.26.6 in /opt/conda/lib/python3.9/site-packages (from -r ./crawler/requirements.txt (line 10)) (1.26.6)\n",
      "Requirement already satisfied: wget==3.2 in /opt/conda/lib/python3.9/site-packages (from -r ./crawler/requirements.txt (line 11)) (3.2)\n",
      "Requirement already satisfied: webdriver_manager==3.5.4 in /opt/conda/lib/python3.9/site-packages (from -r ./crawler/requirements.txt (line 12)) (3.5.4)\n"
     ]
    }
   ],
   "source": [
    "!pip install -r ./crawler/requirements.txt"
   ]
  },
  {
   "cell_type": "code",
   "execution_count": 9,
   "id": "7526ee3c-f8db-49b1-9f30-c8104ea84583",
   "metadata": {},
   "outputs": [
    {
     "name": "stdout",
     "output_type": "stream",
     "text": [
      "Open selenium...\n",
      "\n",
      "\n",
      "====== WebDriver manager ======\n",
      "Current google-chrome version is 100.0.4896\n",
      "Get LATEST chromedriver version for 100.0.4896 google-chrome\n",
      "Trying to download new driver from https://chromedriver.storage.googleapis.com/100.0.4896.60/chromedriver_linux64.zip\n",
      "Driver has been saved in cache [/home/jovyan/.wdm/drivers/chromedriver/linux64/100.0.4896.60]\n",
      "Download Image\n",
      "Download https://i.pinimg.com/originals/0f/f1/12/0ff1121b1f25be8a00a263c88728a5e9.jpg done!\n",
      "Download https://i.pinimg.com/originals/39/56/02/3956027df168cd3422d309b47b4bcb0b.jpg done!\n",
      "Download https://i.pinimg.com/originals/6a/73/ff/6a73ff885c3788c9129f7c333a9f366f.jpg done!\n",
      "Download https://i.pinimg.com/originals/80/aa/aa/80aaaa524b364270c40fd653e5d4c5ed.jpg done!\n",
      "Download https://i.pinimg.com/originals/27/88/e2/2788e2137aa2ba3dea48d002d12baaf1.jpg done!\n",
      "Download https://i.pinimg.com/originals/27/db/cc/27dbccb447a3a79db480a56c6a639c13.jpg fail!\n",
      "Download https://i.pinimg.com/originals/6e/e0/86/6ee08654f6558e50a292c0db3591226f.jpg done!\n",
      "Download https://i.pinimg.com/originals/67/44/6c/67446cf7ef32a209ee891e21b70cc2c8.jpg done!\n",
      "Download https://i.pinimg.com/originals/44/92/56/4492562e85bb10867ed62bc7c2e1ffce.jpg done!\n",
      "Download https://i.pinimg.com/originals/2a/83/97/2a8397b3870d353ebe3a6c90306c4be2.jpg fail!\n",
      "Download https://i.pinimg.com/originals/62/79/3b/62793bbaac78d57a41f6a57c9f09fb47.jpg fail!\n",
      "Download https://i.pinimg.com/originals/b0/9a/bc/b09abc6bc585020fc8f91208de6f260c.jpg done!\n",
      "Download https://i.pinimg.com/originals/4d/a9/6b/4da96b6aabb8a872eba31a39108ac50f.jpg fail!\n",
      "Download https://i.pinimg.com/originals/98/41/be/9841be15cdd50f9d221359376dc1ddee.jpg done!\n",
      "Download https://i.pinimg.com/originals/48/16/6d/48166d6a8e4977ce97a62692d1f08c0b.jpg fail!\n",
      "Download https://i.pinimg.com/originals/ec/d9/16/ecd916f681617baa85b17c449b2daa6e.jpg done!\n",
      "Download https://i.pinimg.com/originals/05/55/43/055543a97a5d32f6e91a16bc06593753.jpg done!\n",
      "Download https://i.pinimg.com/originals/bb/9b/17/bb9b17a01f6b9a8be2bdddebfc50b4be.jpg fail!\n",
      "Download https://i.pinimg.com/originals/d0/76/a2/d076a2a5c0fded49caeba1992cef156c.jpg done!\n",
      "Download https://i.pinimg.com/originals/06/42/5f/06425f5c577333ab9cb4b4e0c2535f36.jpg done!\n",
      "Download https://i.pinimg.com/originals/63/7a/c0/637ac03a6abd105434d3b0a4dffb4009.jpg done!\n",
      "Download https://i.pinimg.com/originals/4e/22/4b/4e224bcb630b6f470d9b67cf489c0c79.jpg done!\n",
      "Download https://i.pinimg.com/originals/f4/d4/e0/f4d4e0b95e77780a21a874aca4e1c8cb.jpg done!\n",
      "Download https://i.pinimg.com/originals/14/cc/ee/14cceec49f4812196187dc475395a9c5.jpg done!\n",
      "Download https://i.pinimg.com/originals/7d/a4/24/7da4245eece94f1ac45dd3b48f1c5931.jpg fail!\n",
      "Download https://i.pinimg.com/originals/54/4e/28/544e28746f58aad3eada66c2ec1303ee.jpg done!\n",
      "Download https://i.pinimg.com/originals/37/e3/21/37e3217092290dda049884af2f55f933.jpg done!\n",
      "Download https://i.pinimg.com/originals/35/ed/e9/35ede93a3b0139a4cc7614146c49fcb3.jpg done!\n",
      "Download https://i.pinimg.com/originals/ba/34/77/ba3477685dc475102dca1924a4033496.jpg fail!\n",
      "Download https://i.pinimg.com/originals/c1/62/06/c1620632bbe4745797c6a9db1e48a38b.jpg done!\n",
      "Download https://i.pinimg.com/originals/1c/24/52/1c2452b205f3ec87f95b9248d05f1a56.jpg done!\n",
      "Download https://i.pinimg.com/originals/62/ed/0d/62ed0d45e9aa13fab4e452a56d210d35.jpg done!\n",
      "Download https://i.pinimg.com/originals/ac/e4/07/ace4078d0b5327f77d9f6f4840cbd0a3.jpg done!\n",
      "Download https://i.pinimg.com/originals/22/54/5d/22545d133ab652156ca13a42b18bec17.jpg done!\n",
      "Download https://i.pinimg.com/originals/d9/18/2f/d9182f18d830db3d5c746a38bb27c681.jpg done!\n",
      "Download https://i.pinimg.com/140x140_RS/a7/79/a3/a779a32778326d0186fd433ba60be170.jpg done!\n",
      "Download https://i.pinimg.com/originals/62/11/d4/6211d44f97b73c23265810c2c58608cf.jpg done!\n",
      "Download https://i.pinimg.com/originals/67/c1/47/67c1479aaf552e77f6117744393760e9.jpg done!\n",
      "Download https://i.pinimg.com/originals/48/af/14/48af147273a22f09a9fedcf0557985de.jpg done!\n",
      "Download https://i.pinimg.com/originals/1a/dc/24/1adc24fbdacf80afaa1d3c80c06be805.jpg done!\n",
      "Download https://i.pinimg.com/originals/1c/3b/4a/1c3b4a0366917c1ea6a7aca3ec0afb68.jpg done!\n",
      "Download https://i.pinimg.com/originals/36/c8/df/36c8df42ea04daded56a757fb3340d9c.jpg done!\n",
      "Download https://i.pinimg.com/originals/0b/4e/75/0b4e754ad300b9b881eff3c92bf68836.jpg done!\n",
      "Download https://i.pinimg.com/originals/14/3a/6b/143a6bbbaca5b6a89bbcd6cfc09cdc49.jpg fail!\n",
      "Download https://i.pinimg.com/originals/15/eb/d8/15ebd89a4da78e21243e1e3e01161839.jpg done!\n",
      "Download https://i.pinimg.com/originals/21/19/be/2119be1ab5ac1b38ca05987ebb0b208e.jpg done!\n",
      "Download https://i.pinimg.com/originals/9a/f9/28/9af928356850bcb22196858dd163aa70.jpg done!\n",
      "Download https://i.pinimg.com/originals/c6/c4/62/c6c4621a46fd4c6f83eb082350e682c9.jpg fail!\n",
      "Download https://i.pinimg.com/140x140_RS/ac/47/ff/ac47ff97d3ae0d9eddaad7e65775a7a4.jpg done!\n",
      "Download https://i.pinimg.com/originals/86/33/9d/86339d1ff7145eedd94e450760fdedcc.jpg fail!\n",
      "Download https://i.pinimg.com/originals/03/f0/bd/03f0bd77a7624f7cb9d1fd9d1738919a.jpg done!\n",
      "Download https://i.pinimg.com/originals/e5/cd/00/e5cd00658d880485664330474963715d.jpg fail!\n",
      "Download https://i.pinimg.com/originals/eb/f6/bf/ebf6bf173197f0b593b536aa58b28dda.jpg done!\n",
      "Scroll down 0 Page, downloaded 53 images.\n",
      "Totally downloaded 53 images.\n"
     ]
    }
   ],
   "source": [
    "!python ./crawler/main.py -e YOUR_E-MAIL_ADRESS -p YOUR_PASSWORD -d '/dataset' -l 'https://www.pinterest.de/search/pins/?q=international%20typography%20style' -g '1'"
   ]
  }
 ],
 "metadata": {
  "kernelspec": {
   "display_name": "Python 3 (ipykernel)",
   "language": "python",
   "name": "python3"
  },
  "language_info": {
   "codemirror_mode": {
    "name": "ipython",
    "version": 3
   },
   "file_extension": ".py",
   "mimetype": "text/x-python",
   "name": "python",
   "nbconvert_exporter": "python",
   "pygments_lexer": "ipython3",
   "version": "3.9.10"
  }
 },
 "nbformat": 4,
 "nbformat_minor": 5
}
