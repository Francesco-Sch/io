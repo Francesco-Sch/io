{
 "cells": [
  {
   "cell_type": "markdown",
   "id": "026203e8-b972-414f-ae04-a80099cf289e",
   "metadata": {},
   "source": [
    "# Scraping data with Pinterest"
   ]
  },
  {
   "cell_type": "code",
   "execution_count": 1,
   "id": "b37b0007-3680-4fe2-92dd-fae4ebc6312b",
   "metadata": {},
   "outputs": [
    {
     "name": "stdout",
     "output_type": "stream",
     "text": [
      "fatal: destination path 'Pinterest-infinite-crawler' already exists and is not an empty directory.\n"
     ]
    }
   ],
   "source": [
    "!git clone https://github.com/mirusu400/Pinterest-infinite-crawler.git"
   ]
  },
  {
   "cell_type": "code",
   "execution_count": 1,
   "id": "9e40dbe8-125f-4cf0-81ed-6dbb2e0e410f",
   "metadata": {},
   "outputs": [
    {
     "name": "stdout",
     "output_type": "stream",
     "text": [
      "Requirement already satisfied: beautifulsoup4==4.9.3 in /opt/conda/lib/python3.9/site-packages (from -r ./crawler/requirements.txt (line 1)) (4.9.3)\n",
      "Requirement already satisfied: bs4==0.0.1 in /opt/conda/lib/python3.9/site-packages (from -r ./crawler/requirements.txt (line 2)) (0.0.1)\n",
      "Requirement already satisfied: certifi==2021.5.30 in /opt/conda/lib/python3.9/site-packages (from -r ./crawler/requirements.txt (line 3)) (2021.5.30)\n",
      "Requirement already satisfied: charset-normalizer==2.0.4 in /opt/conda/lib/python3.9/site-packages (from -r ./crawler/requirements.txt (line 4)) (2.0.4)\n",
      "Requirement already satisfied: idna==3.2 in /opt/conda/lib/python3.9/site-packages (from -r ./crawler/requirements.txt (line 5)) (3.2)\n",
      "Requirement already satisfied: PyYAML==5.4.1 in /opt/conda/lib/python3.9/site-packages (from -r ./crawler/requirements.txt (line 6)) (5.4.1)\n",
      "Requirement already satisfied: requests==2.26.0 in /opt/conda/lib/python3.9/site-packages (from -r ./crawler/requirements.txt (line 7)) (2.26.0)\n",
      "Requirement already satisfied: selenium==3.141.0 in /opt/conda/lib/python3.9/site-packages (from -r ./crawler/requirements.txt (line 8)) (3.141.0)\n",
      "Requirement already satisfied: soupsieve==2.2.1 in /opt/conda/lib/python3.9/site-packages (from -r ./crawler/requirements.txt (line 9)) (2.2.1)\n",
      "Requirement already satisfied: urllib3==1.26.6 in /opt/conda/lib/python3.9/site-packages (from -r ./crawler/requirements.txt (line 10)) (1.26.6)\n",
      "Requirement already satisfied: wget==3.2 in /opt/conda/lib/python3.9/site-packages (from -r ./crawler/requirements.txt (line 11)) (3.2)\n",
      "Requirement already satisfied: webdriver_manager in /opt/conda/lib/python3.9/site-packages (from -r ./crawler/requirements.txt (line 12)) (3.5.4)\n"
     ]
    }
   ],
   "source": [
    "!pip install -r ./crawler/requirements.txt"
   ]
  },
  {
   "cell_type": "code",
   "execution_count": 7,
   "id": "7526ee3c-f8db-49b1-9f30-c8104ea84583",
   "metadata": {},
   "outputs": [
    {
     "name": "stdout",
     "output_type": "stream",
     "text": [
      "Open selenium...\n",
      "\n",
      "\n",
      "====== WebDriver manager ======\n",
      "Current google-chrome version is 100.0.4896\n",
      "Get LATEST chromedriver version for 100.0.4896 google-chrome\n",
      "Driver [/home/jovyan/.wdm/drivers/chromedriver/linux64/100.0.4896.60/chromedriver] found in cache\n",
      "Loading cookies...\n",
      "Failed to login from cookies.. login manually\n",
      "^C\n"
     ]
    }
   ],
   "source": [
    "!python ./crawler/main.py -e 'francesco.scheffczyk@gmail.com' -p 'GvYNHCnDbl' -d '/dataset' -l 'https://www.pinterest.de/search/pins/?q=international%20typography%20style' -g '1'"
   ]
  },
  {
   "cell_type": "code",
   "execution_count": 4,
   "id": "eb64150f-0e21-4223-9857-2a4b01cc25e8",
   "metadata": {},
   "outputs": [
    {
     "data": {
      "text/plain": [
       "'/home/jovyan/notebooks'"
      ]
     },
     "execution_count": 4,
     "metadata": {},
     "output_type": "execute_result"
    }
   ],
   "source": [
    "import os\n",
    "os.getcwd()"
   ]
  }
 ],
 "metadata": {
  "kernelspec": {
   "display_name": "Python 3 (ipykernel)",
   "language": "python",
   "name": "python3"
  },
  "language_info": {
   "codemirror_mode": {
    "name": "ipython",
    "version": 3
   },
   "file_extension": ".py",
   "mimetype": "text/x-python",
   "name": "python",
   "nbconvert_exporter": "python",
   "pygments_lexer": "ipython3",
   "version": "3.9.10"
  }
 },
 "nbformat": 4,
 "nbformat_minor": 5
}
