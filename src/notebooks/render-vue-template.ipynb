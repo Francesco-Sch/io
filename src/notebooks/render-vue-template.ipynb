{
 "cells": [
  {
   "cell_type": "markdown",
   "id": "f5632b26-8c0c-4dc1-a27c-ef85d90ef9a8",
   "metadata": {},
   "source": [
    "# Render Vue from Template file"
   ]
  },
  {
   "cell_type": "code",
   "execution_count": 4,
   "id": "2ef9eca5-a7df-4fd7-9f8c-814633f09cfe",
   "metadata": {},
   "outputs": [],
   "source": [
    "import ipyvuetify as v\n",
    "import traitlets"
   ]
  },
  {
   "cell_type": "code",
   "execution_count": 6,
   "id": "6b3b69a7-d9f8-42be-af2e-563a06aedda9",
   "metadata": {},
   "outputs": [
    {
     "data": {
      "application/vnd.jupyter.widget-view+json": {
       "model_id": "98a4362f492f465e8fb7d9a3b025685c",
       "version_major": 2,
       "version_minor": 0
      },
      "text/plain": [
       "Dashboard(template=Template(template='<template>\\n  <div>\\n      <section>\\n          <label>Write some text:<…"
      ]
     },
     "metadata": {},
     "output_type": "display_data"
    }
   ],
   "source": [
    "class Dashboard(v.VuetifyTemplate):\n",
    "    template_file = '../widgets/vue-templates/exampleTemplate.vue'\n",
    "\n",
    "    text = traitlets.Unicode('').tag(sync=True)\n",
    "\n",
    "\n",
    "dashboard = Dashboard()\n",
    "dashboard"
   ]
  },
  {
   "cell_type": "code",
   "execution_count": null,
   "id": "16baa973-cb62-46d8-b1fb-5c97df4d2b8e",
   "metadata": {},
   "outputs": [],
   "source": [
    "dashboard.text = 'Text resetted'"
   ]
  },
  {
   "cell_type": "code",
   "execution_count": null,
   "id": "a949adc2-5fa0-41de-880b-6462d700421a",
   "metadata": {},
   "outputs": [],
   "source": []
  }
 ],
 "metadata": {
  "kernelspec": {
   "display_name": "Python 3 (ipykernel)",
   "language": "python",
   "name": "python3"
  },
  "language_info": {
   "codemirror_mode": {
    "name": "ipython",
    "version": 3
   },
   "file_extension": ".py",
   "mimetype": "text/x-python",
   "name": "python",
   "nbconvert_exporter": "python",
   "pygments_lexer": "ipython3",
   "version": "3.9.10"
  }
 },
 "nbformat": 4,
 "nbformat_minor": 5
}
