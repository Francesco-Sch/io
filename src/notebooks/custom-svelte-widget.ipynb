{
 "cells": [
  {
   "cell_type": "markdown",
   "id": "c42ef4dc-be89-476c-a2c8-98849895ee0f",
   "metadata": {
    "tags": []
   },
   "source": [
    "# Custom Svelte Widget\n",
    "\n",
    "Based on the tutorial found [here](https://cabreraalex.medium.com/creating-reactive-jupyter-widgets-with-svelte-ef2fb580c05). \n",
    "You can find the widget under /widgets/svelte-widget/"
   ]
  },
  {
   "cell_type": "markdown",
   "id": "20899ae8-dcce-42e9-ab63-883ef90f6c32",
   "metadata": {},
   "source": [
    "Before you can start using this widget you have to start the build and watch process for the widget.\n",
    "\n",
    "For that open up a terminal. Navigate inside the folder /widgets/svelte-widget.\n",
    "\n",
    "Create a dev environment:\n",
    "```\n",
    "conda create -n widget-dev -c conda-forge nodejs yarn python jupyterlab jupyter-packaging\n",
    "conda activate widget-dev\n",
    "```\n",
    "\n",
    "Install the plugin. \n",
    "```\n",
    "pip install -e .\n",
    "```\n",
    "\n",
    "When developing your extensions, you need to manually enable your extensions with the notebook / lab frontend. \n",
    "```\n",
    "jupyter labextension develop --overwrite .\n",
    "yarn run build\n",
    "```\n",
    "\n",
    "Start watching for changes in the plugin source directory.\n",
    "After that restart the kernel and reload the browser window.\n",
    "```\n",
    "# Watch the source directory in one terminal, automatically rebuilding when needed\n",
    "yarn watch\n",
    "# Watch to rebuild JupyterLab in another terminal\n",
    "jupyter labextension watch\n",
    "```"
   ]
  },
  {
   "cell_type": "code",
   "execution_count": 1,
   "id": "ea44b78a-67b1-4056-99f5-50afd39bd54f",
   "metadata": {},
   "outputs": [
    {
     "ename": "ModuleNotFoundError",
     "evalue": "No module named 'svelte_widget'",
     "output_type": "error",
     "traceback": [
      "\u001b[0;31m---------------------------------------------------------------------------\u001b[0m",
      "\u001b[0;31mModuleNotFoundError\u001b[0m                       Traceback (most recent call last)",
      "Input \u001b[0;32mIn [1]\u001b[0m, in \u001b[0;36m<cell line: 1>\u001b[0;34m()\u001b[0m\n\u001b[0;32m----> 1\u001b[0m \u001b[38;5;28;01mimport\u001b[39;00m \u001b[38;5;21;01msvelte_widget\u001b[39;00m\n",
      "\u001b[0;31mModuleNotFoundError\u001b[0m: No module named 'svelte_widget'"
     ]
    }
   ],
   "source": [
    "import svelte_widget"
   ]
  },
  {
   "cell_type": "code",
   "execution_count": null,
   "id": "db24aefb-9ab2-4486-9630-2ff7487e64e5",
   "metadata": {},
   "outputs": [],
   "source": [
    "w = svelte_widget.Slider()\n",
    "w"
   ]
  },
  {
   "cell_type": "code",
   "execution_count": null,
   "id": "b0a683b6-a7be-4f16-be08-173d73bab971",
   "metadata": {},
   "outputs": [],
   "source": []
  }
 ],
 "metadata": {
  "kernelspec": {
   "display_name": "Python 3 (ipykernel)",
   "language": "python",
   "name": "python3"
  },
  "language_info": {
   "codemirror_mode": {
    "name": "ipython",
    "version": 3
   },
   "file_extension": ".py",
   "mimetype": "text/x-python",
   "name": "python",
   "nbconvert_exporter": "python",
   "pygments_lexer": "ipython3",
   "version": "3.9.10"
  }
 },
 "nbformat": 4,
 "nbformat_minor": 5
}
