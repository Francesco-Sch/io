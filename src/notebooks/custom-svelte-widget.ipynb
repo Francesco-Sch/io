{
 "cells": [
  {
   "cell_type": "markdown",
   "id": "c42ef4dc-be89-476c-a2c8-98849895ee0f",
   "metadata": {},
   "source": [
    "# Custom Svelte Widget\n",
    "\n",
    "Based on the tutorial found [here](https://cabreraalex.medium.com/creating-reactive-jupyter-widgets-with-svelte-ef2fb580c05).  \n",
    "You can find the widget under /widgets/svelte-widget/"
   ]
  },
  {
   "cell_type": "code",
   "execution_count": 1,
   "id": "ea44b78a-67b1-4056-99f5-50afd39bd54f",
   "metadata": {},
   "outputs": [],
   "source": [
    "import svelte_widget"
   ]
  },
  {
   "cell_type": "code",
   "execution_count": 2,
   "id": "db24aefb-9ab2-4486-9630-2ff7487e64e5",
   "metadata": {},
   "outputs": [
    {
     "data": {
      "application/vnd.jupyter.widget-view+json": {
       "model_id": "bf0e0bee1fbb424e893609fe4982f88c",
       "version_major": 2,
       "version_minor": 0
      },
      "text/plain": [
       "ExampleWidget()"
      ]
     },
     "metadata": {},
     "output_type": "display_data"
    }
   ],
   "source": [
    "w = svelte_widget.ExampleWidget()\n",
    "w"
   ]
  },
  {
   "cell_type": "code",
   "execution_count": null,
   "id": "b0a683b6-a7be-4f16-be08-173d73bab971",
   "metadata": {},
   "outputs": [],
   "source": []
  }
 ],
 "metadata": {
  "kernelspec": {
   "display_name": "Python 3 (ipykernel)",
   "language": "python",
   "name": "python3"
  },
  "language_info": {
   "codemirror_mode": {
    "name": "ipython",
    "version": 3
   },
   "file_extension": ".py",
   "mimetype": "text/x-python",
   "name": "python",
   "nbconvert_exporter": "python",
   "pygments_lexer": "ipython3",
   "version": "3.9.10"
  }
 },
 "nbformat": 4,
 "nbformat_minor": 5
}
