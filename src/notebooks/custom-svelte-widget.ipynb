{
 "cells": [
  {
   "cell_type": "markdown",
   "id": "c42ef4dc-be89-476c-a2c8-98849895ee0f",
   "metadata": {
    "tags": []
   },
   "source": [
    "# Custom Svelte Widget\n",
    "\n",
    "Based on the tutorial found [here](https://cabreraalex.medium.com/creating-reactive-jupyter-widgets-with-svelte-ef2fb580c05). \n",
    "You can find the widget under /widgets/svelte-widget/"
   ]
  },
  {
   "cell_type": "markdown",
   "id": "20899ae8-dcce-42e9-ab63-883ef90f6c32",
   "metadata": {},
   "source": [
    "Before you can start using this widget you have to start the build and watch process for the widget.\n",
    "\n",
    "For that open up a terminal. Navigate inside the folder /widgets/svelte-widget.\n",
    "\n",
    "Create a dev environment:\n",
    "```\n",
    "conda create -n widget-dev -c conda-forge nodejs yarn python jupyterlab jupyter-packaging\n",
    "conda activate widget-dev\n",
    "```\n",
    "\n",
    "Install the plugin. \n",
    "```\n",
    "pip install -e .\n",
    "```\n",
    "\n",
    "When developing your extensions, you need to manually enable your extensions with the notebook / lab frontend. \n",
    "```\n",
    "jupyter labextension develop --overwrite .\n",
    "yarn run build\n",
    "```\n",
    "\n",
    "Start watching for changes in the plugin source directory.\n",
    "After that restart the kernel and reload the browser window.\n",
    "```\n",
    "# Watch the source directory in one terminal, automatically rebuilding when needed\n",
    "yarn watch\n",
    "# Watch to rebuild JupyterLab in another terminal\n",
    "jupyter labextension watch\n",
    "```"
   ]
  },
  {
   "cell_type": "code",
   "execution_count": 1,
   "id": "ea44b78a-67b1-4056-99f5-50afd39bd54f",
   "metadata": {},
   "outputs": [],
   "source": [
    "import svelte_widget"
   ]
  },
  {
   "cell_type": "code",
   "execution_count": 2,
   "id": "db24aefb-9ab2-4486-9630-2ff7487e64e5",
   "metadata": {},
   "outputs": [
    {
     "data": {
      "application/vnd.jupyter.widget-view+json": {
       "model_id": "d86f2e0b77ba4885a856db544678bd25",
       "version_major": 2,
       "version_minor": 0
      },
      "text/plain": [
       "Slider()"
      ]
     },
     "metadata": {},
     "output_type": "display_data"
    }
   ],
   "source": [
    "w = svelte_widget.Slider()\n",
    "w"
   ]
  },
  {
   "cell_type": "code",
   "execution_count": null,
   "id": "bd1e0545-59bf-44d2-a2fe-9fce3c049a2a",
   "metadata": {},
   "outputs": [],
   "source": []
  }
 ],
 "metadata": {
  "kernelspec": {
   "display_name": "Python 3 (ipykernel)",
   "language": "python",
   "name": "python3"
  },
  "language_info": {
   "codemirror_mode": {
    "name": "ipython",
    "version": 3
   },
   "file_extension": ".py",
   "mimetype": "text/x-python",
   "name": "python",
   "nbconvert_exporter": "python",
   "pygments_lexer": "ipython3",
   "version": "3.9.12"
  }
 },
 "nbformat": 4,
 "nbformat_minor": 5
}
